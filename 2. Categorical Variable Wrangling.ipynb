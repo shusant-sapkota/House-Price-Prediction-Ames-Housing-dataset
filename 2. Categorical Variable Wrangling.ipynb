{
 "cells": [
  {
   "cell_type": "code",
   "execution_count": 6,
   "id": "reported-origin",
   "metadata": {},
   "outputs": [],
   "source": [
    "import pandas as pd\n",
    "import matplotlib.pyplot as plt\n",
    "import seaborn as sns\n",
    "import numpy as np"
   ]
  },
  {
   "cell_type": "code",
   "execution_count": 7,
   "id": "computational-bolivia",
   "metadata": {},
   "outputs": [
    {
     "data": {
      "text/html": [
       "<div>\n",
       "<style scoped>\n",
       "    .dataframe tbody tr th:only-of-type {\n",
       "        vertical-align: middle;\n",
       "    }\n",
       "\n",
       "    .dataframe tbody tr th {\n",
       "        vertical-align: top;\n",
       "    }\n",
       "\n",
       "    .dataframe thead th {\n",
       "        text-align: right;\n",
       "    }\n",
       "</style>\n",
       "<table border=\"1\" class=\"dataframe\">\n",
       "  <thead>\n",
       "    <tr style=\"text-align: right;\">\n",
       "      <th></th>\n",
       "      <th>MSZoning</th>\n",
       "      <th>LotFrontage</th>\n",
       "      <th>LotArea</th>\n",
       "      <th>Street</th>\n",
       "      <th>LotShape</th>\n",
       "      <th>LandContour</th>\n",
       "      <th>Utilities</th>\n",
       "      <th>LotConfig</th>\n",
       "      <th>LandSlope</th>\n",
       "      <th>Neighborhood</th>\n",
       "      <th>...</th>\n",
       "      <th>GarageArea</th>\n",
       "      <th>GarageQual</th>\n",
       "      <th>GarageCond</th>\n",
       "      <th>PavedDrive</th>\n",
       "      <th>WoodDeckSF</th>\n",
       "      <th>OpenPorchSF</th>\n",
       "      <th>ScreenPorch</th>\n",
       "      <th>SaleType</th>\n",
       "      <th>SaleCondition</th>\n",
       "      <th>SalePrice</th>\n",
       "    </tr>\n",
       "  </thead>\n",
       "  <tbody>\n",
       "    <tr>\n",
       "      <td>0</td>\n",
       "      <td>RL</td>\n",
       "      <td>65.0</td>\n",
       "      <td>8450</td>\n",
       "      <td>Pave</td>\n",
       "      <td>Reg</td>\n",
       "      <td>Lvl</td>\n",
       "      <td>AllPub</td>\n",
       "      <td>Inside</td>\n",
       "      <td>Gtl</td>\n",
       "      <td>CollgCr</td>\n",
       "      <td>...</td>\n",
       "      <td>548</td>\n",
       "      <td>TA</td>\n",
       "      <td>TA</td>\n",
       "      <td>Y</td>\n",
       "      <td>0</td>\n",
       "      <td>61</td>\n",
       "      <td>0</td>\n",
       "      <td>WD</td>\n",
       "      <td>Normal</td>\n",
       "      <td>208500</td>\n",
       "    </tr>\n",
       "    <tr>\n",
       "      <td>1</td>\n",
       "      <td>RL</td>\n",
       "      <td>80.0</td>\n",
       "      <td>9600</td>\n",
       "      <td>Pave</td>\n",
       "      <td>Reg</td>\n",
       "      <td>Lvl</td>\n",
       "      <td>AllPub</td>\n",
       "      <td>FR2</td>\n",
       "      <td>Gtl</td>\n",
       "      <td>Veenker</td>\n",
       "      <td>...</td>\n",
       "      <td>460</td>\n",
       "      <td>TA</td>\n",
       "      <td>TA</td>\n",
       "      <td>Y</td>\n",
       "      <td>298</td>\n",
       "      <td>0</td>\n",
       "      <td>0</td>\n",
       "      <td>WD</td>\n",
       "      <td>Normal</td>\n",
       "      <td>181500</td>\n",
       "    </tr>\n",
       "    <tr>\n",
       "      <td>2</td>\n",
       "      <td>RL</td>\n",
       "      <td>68.0</td>\n",
       "      <td>11250</td>\n",
       "      <td>Pave</td>\n",
       "      <td>IR1</td>\n",
       "      <td>Lvl</td>\n",
       "      <td>AllPub</td>\n",
       "      <td>Inside</td>\n",
       "      <td>Gtl</td>\n",
       "      <td>CollgCr</td>\n",
       "      <td>...</td>\n",
       "      <td>608</td>\n",
       "      <td>TA</td>\n",
       "      <td>TA</td>\n",
       "      <td>Y</td>\n",
       "      <td>0</td>\n",
       "      <td>42</td>\n",
       "      <td>0</td>\n",
       "      <td>WD</td>\n",
       "      <td>Normal</td>\n",
       "      <td>223500</td>\n",
       "    </tr>\n",
       "    <tr>\n",
       "      <td>3</td>\n",
       "      <td>RL</td>\n",
       "      <td>60.0</td>\n",
       "      <td>9550</td>\n",
       "      <td>Pave</td>\n",
       "      <td>IR1</td>\n",
       "      <td>Lvl</td>\n",
       "      <td>AllPub</td>\n",
       "      <td>Corner</td>\n",
       "      <td>Gtl</td>\n",
       "      <td>Crawfor</td>\n",
       "      <td>...</td>\n",
       "      <td>642</td>\n",
       "      <td>TA</td>\n",
       "      <td>TA</td>\n",
       "      <td>Y</td>\n",
       "      <td>0</td>\n",
       "      <td>35</td>\n",
       "      <td>0</td>\n",
       "      <td>WD</td>\n",
       "      <td>Abnorml</td>\n",
       "      <td>140000</td>\n",
       "    </tr>\n",
       "    <tr>\n",
       "      <td>4</td>\n",
       "      <td>RL</td>\n",
       "      <td>84.0</td>\n",
       "      <td>14260</td>\n",
       "      <td>Pave</td>\n",
       "      <td>IR1</td>\n",
       "      <td>Lvl</td>\n",
       "      <td>AllPub</td>\n",
       "      <td>FR2</td>\n",
       "      <td>Gtl</td>\n",
       "      <td>NoRidge</td>\n",
       "      <td>...</td>\n",
       "      <td>836</td>\n",
       "      <td>TA</td>\n",
       "      <td>TA</td>\n",
       "      <td>Y</td>\n",
       "      <td>192</td>\n",
       "      <td>84</td>\n",
       "      <td>0</td>\n",
       "      <td>WD</td>\n",
       "      <td>Normal</td>\n",
       "      <td>250000</td>\n",
       "    </tr>\n",
       "  </tbody>\n",
       "</table>\n",
       "<p>5 rows × 63 columns</p>\n",
       "</div>"
      ],
      "text/plain": [
       "  MSZoning  LotFrontage  LotArea Street LotShape LandContour Utilities  \\\n",
       "0       RL         65.0     8450   Pave      Reg         Lvl    AllPub   \n",
       "1       RL         80.0     9600   Pave      Reg         Lvl    AllPub   \n",
       "2       RL         68.0    11250   Pave      IR1         Lvl    AllPub   \n",
       "3       RL         60.0     9550   Pave      IR1         Lvl    AllPub   \n",
       "4       RL         84.0    14260   Pave      IR1         Lvl    AllPub   \n",
       "\n",
       "  LotConfig LandSlope Neighborhood  ... GarageArea GarageQual GarageCond  \\\n",
       "0    Inside       Gtl      CollgCr  ...        548         TA         TA   \n",
       "1       FR2       Gtl      Veenker  ...        460         TA         TA   \n",
       "2    Inside       Gtl      CollgCr  ...        608         TA         TA   \n",
       "3    Corner       Gtl      Crawfor  ...        642         TA         TA   \n",
       "4       FR2       Gtl      NoRidge  ...        836         TA         TA   \n",
       "\n",
       "  PavedDrive  WoodDeckSF  OpenPorchSF  ScreenPorch SaleType SaleCondition  \\\n",
       "0          Y           0           61            0       WD        Normal   \n",
       "1          Y         298            0            0       WD        Normal   \n",
       "2          Y           0           42            0       WD        Normal   \n",
       "3          Y           0           35            0       WD       Abnorml   \n",
       "4          Y         192           84            0       WD        Normal   \n",
       "\n",
       "  SalePrice  \n",
       "0    208500  \n",
       "1    181500  \n",
       "2    223500  \n",
       "3    140000  \n",
       "4    250000  \n",
       "\n",
       "[5 rows x 63 columns]"
      ]
     },
     "execution_count": 7,
     "metadata": {},
     "output_type": "execute_result"
    }
   ],
   "source": [
    "df = pd.read_csv('clean_v1.csv')\n",
    "df.head()"
   ]
  },
  {
   "cell_type": "code",
   "execution_count": 32,
   "id": "simple-orleans",
   "metadata": {},
   "outputs": [
    {
     "name": "stdout",
     "output_type": "stream",
     "text": [
      "<class 'pandas.core.frame.DataFrame'>\n",
      "RangeIndex: 1460 entries, 0 to 1459\n",
      "Data columns (total 63 columns):\n",
      "MSZoning         1460 non-null object\n",
      "LotFrontage      1201 non-null float64\n",
      "LotArea          1460 non-null int64\n",
      "Street           1460 non-null object\n",
      "LotShape         1460 non-null object\n",
      "LandContour      1460 non-null object\n",
      "Utilities        1460 non-null object\n",
      "LotConfig        1460 non-null object\n",
      "LandSlope        1460 non-null object\n",
      "Neighborhood     1460 non-null object\n",
      "Condition1       1460 non-null object\n",
      "Condition2       1460 non-null object\n",
      "BldgType         1460 non-null object\n",
      "HouseStyle       1460 non-null object\n",
      "OverallQual      1460 non-null int64\n",
      "YearBuilt        1460 non-null int64\n",
      "YearRemodAdd     1460 non-null int64\n",
      "RoofStyle        1460 non-null object\n",
      "RoofMatl         1460 non-null object\n",
      "Exterior1st      1460 non-null object\n",
      "Exterior2nd      1460 non-null object\n",
      "MasVnrType       1460 non-null object\n",
      "MasVnrArea       1460 non-null float64\n",
      "ExterQual        1460 non-null object\n",
      "ExterCond        1460 non-null object\n",
      "Foundation       1460 non-null object\n",
      "BsmtQual         1423 non-null object\n",
      "BsmtCond         1423 non-null object\n",
      "BsmtExposure     1422 non-null object\n",
      "BsmtFinType1     1423 non-null object\n",
      "BsmtFinSF1       1460 non-null int64\n",
      "BsmtFinType2     1422 non-null object\n",
      "BsmtUnfSF        1460 non-null int64\n",
      "TotalBsmtSF      1460 non-null int64\n",
      "Heating          1460 non-null object\n",
      "HeatingQC        1460 non-null object\n",
      "CentralAir       1460 non-null object\n",
      "Electrical       1460 non-null object\n",
      "1stFlrSF         1460 non-null int64\n",
      "2ndFlrSF         1460 non-null int64\n",
      "GrLivArea        1460 non-null int64\n",
      "BsmtFullBath     1460 non-null int64\n",
      "FullBath         1460 non-null int64\n",
      "HalfBath         1460 non-null int64\n",
      "BedroomAbvGr     1460 non-null int64\n",
      "KitchenQual      1460 non-null object\n",
      "TotRmsAbvGrd     1460 non-null int64\n",
      "Functional       1460 non-null object\n",
      "Fireplaces       1460 non-null int64\n",
      "GarageType       1379 non-null object\n",
      "GarageYrBlt      1379 non-null float64\n",
      "GarageFinish     1379 non-null object\n",
      "GarageCars       1460 non-null int64\n",
      "GarageArea       1460 non-null int64\n",
      "GarageQual       1379 non-null object\n",
      "GarageCond       1379 non-null object\n",
      "PavedDrive       1460 non-null object\n",
      "WoodDeckSF       1460 non-null int64\n",
      "OpenPorchSF      1460 non-null int64\n",
      "ScreenPorch      1460 non-null int64\n",
      "SaleType         1460 non-null object\n",
      "SaleCondition    1460 non-null object\n",
      "SalePrice        1460 non-null int64\n",
      "dtypes: float64(3), int64(22), object(38)\n",
      "memory usage: 718.7+ KB\n"
     ]
    }
   ],
   "source": [
    "df.info()"
   ]
  },
  {
   "cell_type": "markdown",
   "id": "fifteen-niagara",
   "metadata": {},
   "source": [
    "## Categorical Variable EDA"
   ]
  },
  {
   "cell_type": "code",
   "execution_count": 29,
   "id": "dimensional-sleeve",
   "metadata": {},
   "outputs": [],
   "source": [
    "cat_to_include = []\n",
    "cat_to_exclude = []"
   ]
  },
  {
   "cell_type": "markdown",
   "id": "intimate-labor",
   "metadata": {},
   "source": [
    "### 1. MSZoning"
   ]
  },
  {
   "cell_type": "code",
   "execution_count": 16,
   "id": "lined-pitch",
   "metadata": {},
   "outputs": [
    {
     "data": {
      "text/plain": [
       "<AxesSubplot:xlabel='MSZoning', ylabel='SalePrice'>"
      ]
     },
     "execution_count": 16,
     "metadata": {},
     "output_type": "execute_result"
    },
    {
     "data": {
      "image/png": "[encoded data removed]",
      "text/plain": [
       "<Figure size 432x288 with 1 Axes>"
      ]
     },
     "metadata": {
      "needs_background": "light"
     },
     "output_type": "display_data"
    }
   ],
   "source": [
    "sns.boxplot(data = df, x = 'MSZoning', y= 'SalePrice')"
   ]
  },
  {
   "cell_type": "code",
   "execution_count": 22,
   "id": "tamil-constitutional",
   "metadata": {},
   "outputs": [
    {
     "data": {
      "text/plain": [
       "RL         1151\n",
       "RM          218\n",
       "FV           65\n",
       "RH           16\n",
       "C (all)      10\n",
       "Name: MSZoning, dtype: int64"
      ]
     },
     "execution_count": 22,
     "metadata": {},
     "output_type": "execute_result"
    }
   ],
   "source": [
    "df['MSZoning'].value_counts()"
   ]
  },
  {
   "cell_type": "code",
   "execution_count": 30,
   "id": "institutional-occasion",
   "metadata": {},
   "outputs": [],
   "source": [
    "cat_to_exclude.append('MSZoning')"
   ]
  },
  {
   "cell_type": "markdown",
   "id": "sunset-grain",
   "metadata": {},
   "source": [
    "##### This shows the 'MSZoning' column is highly skewed in 'RL' value. So, it is not good to include it as feature for modelling"
   ]
  },
  {
   "cell_type": "markdown",
   "id": "universal-forest",
   "metadata": {},
   "source": [
    "# "
   ]
  },
  {
   "cell_type": "markdown",
   "id": "incredible-barrel",
   "metadata": {},
   "source": [
    "### 2. Street"
   ]
  },
  {
   "cell_type": "code",
   "execution_count": 23,
   "id": "political-arabic",
   "metadata": {},
   "outputs": [
    {
     "data": {
      "text/plain": [
       "<AxesSubplot:xlabel='Street', ylabel='SalePrice'>"
      ]
     },
     "execution_count": 23,
     "metadata": {},
     "output_type": "execute_result"
    },
    {
     "data": {
      "image/png": "[encoded data removed]",
      "text/plain": [
       "<Figure size 432x288 with 1 Axes>"
      ]
     },
     "metadata": {
      "needs_background": "light"
     },
     "output_type": "display_data"
    }
   ],
   "source": [
    "sns.boxplot(data = df, x = 'Street', y= 'SalePrice')"
   ]
  },
  {
   "cell_type": "code",
   "execution_count": 26,
   "id": "excess-classroom",
   "metadata": {
    "scrolled": true
   },
   "outputs": [
    {
     "data": {
      "text/plain": [
       "Pave    1454\n",
       "Grvl       6\n",
       "Name: Street, dtype: int64"
      ]
     },
     "execution_count": 26,
     "metadata": {},
     "output_type": "execute_result"
    }
   ],
   "source": [
    "df['Street'].value_counts()"
   ]
  },
  {
   "cell_type": "code",
   "execution_count": 31,
   "id": "junior-discrimination",
   "metadata": {},
   "outputs": [],
   "source": [
    "cat_to_exclude.append('Street')"
   ]
  },
  {
   "cell_type": "markdown",
   "id": "floral-mason",
   "metadata": {},
   "source": [
    "##### This shows the 'Street' is highly skewed in 'Pave' value. So, it is not good to include it as feature for modelling"
   ]
  },
  {
   "cell_type": "markdown",
   "id": "nutritional-generation",
   "metadata": {},
   "source": [
    "# "
   ]
  },
  {
   "cell_type": "markdown",
   "id": "superior-template",
   "metadata": {},
   "source": [
    "### 3. LotShape"
   ]
  },
  {
   "cell_type": "code",
   "execution_count": 27,
   "id": "chinese-kernel",
   "metadata": {},
   "outputs": [
    {
     "data": {
      "text/plain": [
       "<AxesSubplot:xlabel='LotShape', ylabel='SalePrice'>"
      ]
     },
     "execution_count": 27,
     "metadata": {},
     "output_type": "execute_result"
    },
    {
     "data": {
      "image/png": "[encoded data removed]",
      "text/plain": [
       "<Figure size 432x288 with 1 Axes>"
      ]
     },
     "metadata": {
      "needs_background": "light"
     },
     "output_type": "display_data"
    }
   ],
   "source": [
    "sns.boxplot(data = df, x = 'LotShape', y= 'SalePrice')"
   ]
  },
  {
   "cell_type": "code",
   "execution_count": 28,
   "id": "satisfactory-business",
   "metadata": {},
   "outputs": [
    {
     "data": {
      "text/plain": [
       "Reg    925\n",
       "IR1    484\n",
       "IR2     41\n",
       "IR3     10\n",
       "Name: LotShape, dtype: int64"
      ]
     },
     "execution_count": 28,
     "metadata": {},
     "output_type": "execute_result"
    }
   ],
   "source": [
    "df['LotShape'].value_counts()"
   ]
  },
  {
   "cell_type": "code",
   "execution_count": 44,
   "id": "surface-onion",
   "metadata": {},
   "outputs": [
    {
     "data": {
      "text/plain": [
       "<AxesSubplot:xlabel='LotShape', ylabel='Count'>"
      ]
     },
     "execution_count": 44,
     "metadata": {},
     "output_type": "execute_result"
    },
    {
     "data": {
      "image/png": "[encoded data removed]",
      "text/plain": [
       "<Figure size 432x288 with 1 Axes>"
      ]
     },
     "metadata": {
      "needs_background": "light"
     },
     "output_type": "display_data"
    }
   ],
   "source": [
    "sns.histplot(df, x = 'LotShape')"
   ]
  },
  {
   "cell_type": "code",
   "execution_count": 45,
   "id": "chemical-soldier",
   "metadata": {},
   "outputs": [],
   "source": [
    "cat_to_include.append('LotShape')"
   ]
  },
  {
   "cell_type": "markdown",
   "id": "decimal-yield",
   "metadata": {},
   "source": [
    "##### It is considered as a feature"
   ]
  },
  {
   "cell_type": "code",
   "execution_count": null,
   "id": "bizarre-century",
   "metadata": {},
   "outputs": [],
   "source": []
  },
  {
   "cell_type": "markdown",
   "id": "blessed-bacon",
   "metadata": {},
   "source": [
    "### 4. LandContour"
   ]
  },
  {
   "cell_type": "code",
   "execution_count": 33,
   "id": "above-insight",
   "metadata": {
    "scrolled": true
   },
   "outputs": [
    {
     "data": {
      "text/plain": [
       "<AxesSubplot:xlabel='LandContour', ylabel='SalePrice'>"
      ]
     },
     "execution_count": 33,
     "metadata": {},
     "output_type": "execute_result"
    },
    {
     "data": {
      "image/png": "[encoded data removed]",
      "text/plain": [
       "<Figure size 432x288 with 1 Axes>"
      ]
     },
     "metadata": {
      "needs_background": "light"
     },
     "output_type": "display_data"
    }
   ],
   "source": [
    "sns.boxplot(data = df, x ='LandContour', y= 'SalePrice')"
   ]
  },
  {
   "cell_type": "code",
   "execution_count": 34,
   "id": "induced-bikini",
   "metadata": {},
   "outputs": [
    {
     "data": {
      "text/plain": [
       "Lvl    1311\n",
       "Bnk      63\n",
       "HLS      50\n",
       "Low      36\n",
       "Name: LandContour, dtype: int64"
      ]
     },
     "execution_count": 34,
     "metadata": {},
     "output_type": "execute_result"
    }
   ],
   "source": [
    "df['LandContour'].value_counts()"
   ]
  },
  {
   "cell_type": "code",
   "execution_count": 35,
   "id": "adverse-addition",
   "metadata": {},
   "outputs": [],
   "source": [
    "cat_to_exclude.append('LandContour')"
   ]
  },
  {
   "cell_type": "markdown",
   "id": "adult-uniform",
   "metadata": {},
   "source": [
    "##### This column 'LandContour' is highly skewed in 'Lvl'. So, this column is excluded"
   ]
  },
  {
   "cell_type": "markdown",
   "id": "sticky-alpha",
   "metadata": {},
   "source": [
    " #    "
   ]
  },
  {
   "cell_type": "markdown",
   "id": "instrumental-presence",
   "metadata": {},
   "source": [
    "### 5. Utilities"
   ]
  },
  {
   "cell_type": "code",
   "execution_count": 37,
   "id": "tested-motorcycle",
   "metadata": {},
   "outputs": [
    {
     "data": {
      "text/plain": [
       "AllPub    1459\n",
       "NoSeWa       1\n",
       "Name: Utilities, dtype: int64"
      ]
     },
     "execution_count": 37,
     "metadata": {},
     "output_type": "execute_result"
    }
   ],
   "source": [
    "df['Utilities'].value_counts()"
   ]
  },
  {
   "cell_type": "code",
   "execution_count": 40,
   "id": "first-throat",
   "metadata": {},
   "outputs": [
    {
     "data": {
      "text/plain": [
       "<AxesSubplot:xlabel='Utilities', ylabel='Count'>"
      ]
     },
     "execution_count": 40,
     "metadata": {},
     "output_type": "execute_result"
    },
    {
     "data": {
      "image/png": "[encoded data removed]",
      "text/plain": [
       "<Figure size 432x288 with 1 Axes>"
      ]
     },
     "metadata": {
      "needs_background": "light"
     },
     "output_type": "display_data"
    }
   ],
   "source": [
    "sns.histplot(data = df, x = 'Utilities')"
   ]
  },
  {
   "cell_type": "code",
   "execution_count": 41,
   "id": "rural-eating",
   "metadata": {},
   "outputs": [],
   "source": [
    "cat_to_exclude.append('Utilities')"
   ]
  },
  {
   "cell_type": "markdown",
   "id": "oriented-importance",
   "metadata": {},
   "source": [
    "##### 'Utilities' is highly on 'AllPub'"
   ]
  },
  {
   "cell_type": "markdown",
   "id": "decent-adolescent",
   "metadata": {},
   "source": [
    "# "
   ]
  },
  {
   "cell_type": "markdown",
   "id": "arranged-sample",
   "metadata": {},
   "source": [
    "### 6. LotConfig"
   ]
  },
  {
   "cell_type": "code",
   "execution_count": 42,
   "id": "structural-stylus",
   "metadata": {},
   "outputs": [
    {
     "data": {
      "text/plain": [
       "Inside     1052\n",
       "Corner      263\n",
       "CulDSac      94\n",
       "FR2          47\n",
       "FR3           4\n",
       "Name: LotConfig, dtype: int64"
      ]
     },
     "execution_count": 42,
     "metadata": {},
     "output_type": "execute_result"
    }
   ],
   "source": [
    "df['LotConfig'].value_counts()"
   ]
  },
  {
   "cell_type": "code",
   "execution_count": 43,
   "id": "pressing-connection",
   "metadata": {},
   "outputs": [
    {
     "data": {
      "text/plain": [
       "<AxesSubplot:xlabel='LotConfig', ylabel='Count'>"
      ]
     },
     "execution_count": 43,
     "metadata": {},
     "output_type": "execute_result"
    },
    {
     "data": {
      "image/png": "[encoded data removed]",
      "text/plain": [
       "<Figure size 432x288 with 1 Axes>"
      ]
     },
     "metadata": {
      "needs_background": "light"
     },
     "output_type": "display_data"
    }
   ],
   "source": [
    "sns.histplot(df, x = 'LotConfig')"
   ]
  },
  {
   "cell_type": "code",
   "execution_count": 47,
   "id": "burning-victorian",
   "metadata": {},
   "outputs": [
    {
     "data": {
      "text/plain": [
       "<AxesSubplot:xlabel='LotConfig', ylabel='SalePrice'>"
      ]
     },
     "execution_count": 47,
     "metadata": {},
     "output_type": "execute_result"
    },
    {
     "data": {
      "image/png": "[encoded data removed]",
      "text/plain": [
       "<Figure size 432x288 with 1 Axes>"
      ]
     },
     "metadata": {
      "needs_background": "light"
     },
     "output_type": "display_data"
    }
   ],
   "source": [
    "sns.boxplot(data = df, x = 'LotConfig', y = 'SalePrice')"
   ]
  },
  {
   "cell_type": "code",
   "execution_count": 48,
   "id": "declared-knowing",
   "metadata": {},
   "outputs": [],
   "source": [
    "cat_to_include.append('LotConfig')"
   ]
  },
  {
   "cell_type": "markdown",
   "id": "intensive-possibility",
   "metadata": {},
   "source": [
    "##### It is included"
   ]
  },
  {
   "cell_type": "markdown",
   "id": "metallic-bracelet",
   "metadata": {},
   "source": [
    "# "
   ]
  },
  {
   "cell_type": "markdown",
   "id": "thirty-detail",
   "metadata": {},
   "source": [
    "### 7. LandSlope"
   ]
  },
  {
   "cell_type": "code",
   "execution_count": 49,
   "id": "neural-subscription",
   "metadata": {},
   "outputs": [
    {
     "data": {
      "text/plain": [
       "<AxesSubplot:xlabel='LandSlope', ylabel='Count'>"
      ]
     },
     "execution_count": 49,
     "metadata": {},
     "output_type": "execute_result"
    },
    {
     "data": {
      "image/png": "[encoded data removed]",
      "text/plain": [
       "<Figure size 432x288 with 1 Axes>"
      ]
     },
     "metadata": {
      "needs_background": "light"
     },
     "output_type": "display_data"
    }
   ],
   "source": [
    "sns.histplot(data = df, x = 'LandSlope')"
   ]
  },
  {
   "cell_type": "code",
   "execution_count": 50,
   "id": "daily-money",
   "metadata": {},
   "outputs": [
    {
     "data": {
      "text/plain": [
       "Gtl    1382\n",
       "Mod      65\n",
       "Sev      13\n",
       "Name: LandSlope, dtype: int64"
      ]
     },
     "execution_count": 50,
     "metadata": {},
     "output_type": "execute_result"
    }
   ],
   "source": [
    "df['LandSlope'].value_counts()"
   ]
  },
  {
   "cell_type": "code",
   "execution_count": 51,
   "id": "harmful-modification",
   "metadata": {},
   "outputs": [
    {
     "data": {
      "text/plain": [
       "<AxesSubplot:xlabel='LandSlope', ylabel='SalePrice'>"
      ]
     },
     "execution_count": 51,
     "metadata": {},
     "output_type": "execute_result"
    },
    {
     "data": {
      "image/png": "[encoded data removed]",
      "text/plain": [
       "<Figure size 432x288 with 1 Axes>"
      ]
     },
     "metadata": {
      "needs_background": "light"
     },
     "output_type": "display_data"
    }
   ],
   "source": [
    "sns.boxplot(data = df, x = 'LandSlope', y = 'SalePrice')"
   ]
  },
  {
   "cell_type": "code",
   "execution_count": 52,
   "id": "dependent-campbell",
   "metadata": {},
   "outputs": [],
   "source": [
    "cat_to_exclude.append('LandSlope')"
   ]
  },
  {
   "cell_type": "markdown",
   "id": "invisible-timeline",
   "metadata": {},
   "source": [
    "##### 'LandSlope' is highly fall under 'Gtl' value. So, it's excluded"
   ]
  },
  {
   "cell_type": "markdown",
   "id": "dramatic-warehouse",
   "metadata": {},
   "source": [
    "# "
   ]
  },
  {
   "cell_type": "markdown",
   "id": "eastern-european",
   "metadata": {},
   "source": [
    "### 8. Neighborhood"
   ]
  },
  {
   "cell_type": "code",
   "execution_count": 53,
   "id": "connected-heavy",
   "metadata": {},
   "outputs": [
    {
     "data": {
      "text/plain": [
       "<AxesSubplot:xlabel='Neighborhood', ylabel='Count'>"
      ]
     },
     "execution_count": 53,
     "metadata": {},
     "output_type": "execute_result"
    },
    {
     "data": {
      "image/png": "[encoded data removed]",
      "text/plain": [
       "<Figure size 432x288 with 1 Axes>"
      ]
     },
     "metadata": {
      "needs_background": "light"
     },
     "output_type": "display_data"
    }
   ],
   "source": [
    "sns.histplot(data = df, x = 'Neighborhood')"
   ]
  },
  {
   "cell_type": "code",
   "execution_count": 54,
   "id": "demanding-treasurer",
   "metadata": {},
   "outputs": [
    {
     "data": {
      "text/plain": [
       "NAmes      225\n",
       "CollgCr    150\n",
       "OldTown    113\n",
       "Edwards    100\n",
       "Somerst     86\n",
       "Gilbert     79\n",
       "NridgHt     77\n",
       "Sawyer      74\n",
       "NWAmes      73\n",
       "SawyerW     59\n",
       "BrkSide     58\n",
       "Crawfor     51\n",
       "Mitchel     49\n",
       "NoRidge     41\n",
       "Timber      38\n",
       "IDOTRR      37\n",
       "ClearCr     28\n",
       "StoneBr     25\n",
       "SWISU       25\n",
       "MeadowV     17\n",
       "Blmngtn     17\n",
       "BrDale      16\n",
       "Veenker     11\n",
       "NPkVill      9\n",
       "Blueste      2\n",
       "Name: Neighborhood, dtype: int64"
      ]
     },
     "execution_count": 54,
     "metadata": {},
     "output_type": "execute_result"
    }
   ],
   "source": [
    "df['Neighborhood'].value_counts()"
   ]
  },
  {
   "cell_type": "code",
   "execution_count": 55,
   "id": "fewer-sequence",
   "metadata": {},
   "outputs": [],
   "source": [
    "cat_to_include.append('Neighborhood')"
   ]
  },
  {
   "cell_type": "code",
   "execution_count": 56,
   "id": "blank-gender",
   "metadata": {},
   "outputs": [
    {
     "data": {
      "text/plain": [
       "<AxesSubplot:xlabel='Neighborhood', ylabel='SalePrice'>"
      ]
     },
     "execution_count": 56,
     "metadata": {},
     "output_type": "execute_result"
    },
    {
     "data": {
      "image/png": "[encoded data removed]",
      "text/plain": [
       "<Figure size 432x288 with 1 Axes>"
      ]
     },
     "metadata": {
      "needs_background": "light"
     },
     "output_type": "display_data"
    }
   ],
   "source": [
    "sns.boxplot(data = df, x = 'Neighborhood', y = 'SalePrice')"
   ]
  },
  {
   "cell_type": "markdown",
   "id": "behavioral-worry",
   "metadata": {},
   "source": [
    "##### 'Neighborhood' is included"
   ]
  },
  {
   "cell_type": "markdown",
   "id": "related-subdivision",
   "metadata": {},
   "source": [
    "# "
   ]
  },
  {
   "cell_type": "markdown",
   "id": "gothic-latino",
   "metadata": {},
   "source": [
    "### 9. Condition1"
   ]
  },
  {
   "cell_type": "code",
   "execution_count": 57,
   "id": "fewer-publicity",
   "metadata": {},
   "outputs": [
    {
     "data": {
      "text/plain": [
       "Norm      1260\n",
       "Feedr       81\n",
       "Artery      48\n",
       "RRAn        26\n",
       "PosN        19\n",
       "RRAe        11\n",
       "PosA         8\n",
       "RRNn         5\n",
       "RRNe         2\n",
       "Name: Condition1, dtype: int64"
      ]
     },
     "execution_count": 57,
     "metadata": {},
     "output_type": "execute_result"
    }
   ],
   "source": [
    "df['Condition1'].value_counts()"
   ]
  },
  {
   "cell_type": "code",
   "execution_count": 58,
   "id": "scenic-duncan",
   "metadata": {},
   "outputs": [
    {
     "data": {
      "text/plain": [
       "<AxesSubplot:xlabel='Condition1', ylabel='SalePrice'>"
      ]
     },
     "execution_count": 58,
     "metadata": {},
     "output_type": "execute_result"
    },
    {
     "data": {
      "image/png": "[encoded data removed]",
      "text/plain": [
       "<Figure size 432x288 with 1 Axes>"
      ]
     },
     "metadata": {
      "needs_background": "light"
     },
     "output_type": "display_data"
    }
   ],
   "source": [
    "sns.boxplot(data = df, x = 'Condition1', y = 'SalePrice')"
   ]
  },
  {
   "cell_type": "code",
   "execution_count": 60,
   "id": "naked-experience",
   "metadata": {},
   "outputs": [],
   "source": [
    "cat_to_exclude.append('Condition1')"
   ]
  },
  {
   "cell_type": "markdown",
   "id": "micro-preliminary",
   "metadata": {},
   "source": [
    "##### 'Condition1' lies more under 'Norm'. SO, excluded"
   ]
  },
  {
   "cell_type": "markdown",
   "id": "dependent-howard",
   "metadata": {},
   "source": [
    "# "
   ]
  },
  {
   "cell_type": "markdown",
   "id": "neural-hearts",
   "metadata": {},
   "source": [
    "### 10. Condition2"
   ]
  },
  {
   "cell_type": "code",
   "execution_count": 59,
   "id": "gross-switch",
   "metadata": {},
   "outputs": [
    {
     "data": {
      "text/plain": [
       "Norm      1445\n",
       "Feedr        6\n",
       "RRNn         2\n",
       "PosN         2\n",
       "Artery       2\n",
       "RRAe         1\n",
       "PosA         1\n",
       "RRAn         1\n",
       "Name: Condition2, dtype: int64"
      ]
     },
     "execution_count": 59,
     "metadata": {},
     "output_type": "execute_result"
    }
   ],
   "source": [
    "df['Condition2'].value_counts()"
   ]
  },
  {
   "cell_type": "code",
   "execution_count": 61,
   "id": "ongoing-active",
   "metadata": {},
   "outputs": [],
   "source": [
    "cat_to_exclude.append('Condition2')"
   ]
  },
  {
   "cell_type": "markdown",
   "id": "faced-awareness",
   "metadata": {},
   "source": [
    "##### 'Condition2' lies more under 'Norm'. SO, excluded"
   ]
  },
  {
   "cell_type": "markdown",
   "id": "horizontal-quality",
   "metadata": {},
   "source": [
    "# "
   ]
  },
  {
   "cell_type": "markdown",
   "id": "fatty-broadcast",
   "metadata": {},
   "source": [
    "### 11. BldgType"
   ]
  },
  {
   "cell_type": "code",
   "execution_count": 62,
   "id": "double-necklace",
   "metadata": {},
   "outputs": [
    {
     "data": {
      "text/plain": [
       "1Fam      1220\n",
       "TwnhsE     114\n",
       "Duplex      52\n",
       "Twnhs       43\n",
       "2fmCon      31\n",
       "Name: BldgType, dtype: int64"
      ]
     },
     "execution_count": 62,
     "metadata": {},
     "output_type": "execute_result"
    }
   ],
   "source": [
    "df['BldgType'].value_counts()"
   ]
  },
  {
   "cell_type": "code",
   "execution_count": 63,
   "id": "tired-brooklyn",
   "metadata": {},
   "outputs": [
    {
     "data": {
      "text/plain": [
       "<AxesSubplot:xlabel='BldgType', ylabel='SalePrice'>"
      ]
     },
     "execution_count": 63,
     "metadata": {},
     "output_type": "execute_result"
    },
    {
     "data": {
      "image/png": "[encoded data removed]",
      "text/plain": [
       "<Figure size 432x288 with 1 Axes>"
      ]
     },
     "metadata": {
      "needs_background": "light"
     },
     "output_type": "display_data"
    }
   ],
   "source": [
    "sns.boxplot(data = df, x = 'BldgType', y = 'SalePrice')"
   ]
  },
  {
   "cell_type": "code",
   "execution_count": 64,
   "id": "democratic-italian",
   "metadata": {},
   "outputs": [],
   "source": [
    "cat_to_exclude.append('BldgType')"
   ]
  },
  {
   "cell_type": "markdown",
   "id": "suffering-bachelor",
   "metadata": {},
   "source": [
    "##### 'BldgType' is excluded"
   ]
  },
  {
   "cell_type": "markdown",
   "id": "based-infrastructure",
   "metadata": {},
   "source": [
    "# "
   ]
  },
  {
   "cell_type": "markdown",
   "id": "combined-arrival",
   "metadata": {},
   "source": [
    "### 12. HouseStyle"
   ]
  },
  {
   "cell_type": "code",
   "execution_count": 65,
   "id": "present-patient",
   "metadata": {},
   "outputs": [
    {
     "data": {
      "text/plain": [
       "<AxesSubplot:xlabel='HouseStyle', ylabel='Count'>"
      ]
     },
     "execution_count": 65,
     "metadata": {},
     "output_type": "execute_result"
    },
    {
     "data": {
      "image/png": "[encoded data removed]",
      "text/plain": [
       "<Figure size 432x288 with 1 Axes>"
      ]
     },
     "metadata": {
      "needs_background": "light"
     },
     "output_type": "display_data"
    }
   ],
   "source": [
    "sns.histplot(df, x = 'HouseStyle')"
   ]
  },
  {
   "cell_type": "code",
   "execution_count": 66,
   "id": "catholic-lightweight",
   "metadata": {},
   "outputs": [
    {
     "data": {
      "text/plain": [
       "1Story    726\n",
       "2Story    445\n",
       "1.5Fin    154\n",
       "SLvl       65\n",
       "SFoyer     37\n",
       "1.5Unf     14\n",
       "2.5Unf     11\n",
       "2.5Fin      8\n",
       "Name: HouseStyle, dtype: int64"
      ]
     },
     "execution_count": 66,
     "metadata": {},
     "output_type": "execute_result"
    }
   ],
   "source": [
    "df['HouseStyle'].value_counts()"
   ]
  },
  {
   "cell_type": "code",
   "execution_count": 67,
   "id": "necessary-pregnancy",
   "metadata": {},
   "outputs": [
    {
     "data": {
      "text/plain": [
       "<AxesSubplot:xlabel='HouseStyle', ylabel='SalePrice'>"
      ]
     },
     "execution_count": 67,
     "metadata": {},
     "output_type": "execute_result"
    },
    {
     "data": {
      "image/png": "[encoded data removed]",
      "text/plain": [
       "<Figure size 432x288 with 1 Axes>"
      ]
     },
     "metadata": {
      "needs_background": "light"
     },
     "output_type": "display_data"
    }
   ],
   "source": [
    "sns.boxplot(data =df, x = 'HouseStyle', y = 'SalePrice')"
   ]
  },
  {
   "cell_type": "code",
   "execution_count": 68,
   "id": "public-industry",
   "metadata": {},
   "outputs": [],
   "source": [
    "cat_to_include.append('HouseStyle')"
   ]
  },
  {
   "cell_type": "markdown",
   "id": "becoming-silver",
   "metadata": {},
   "source": [
    "##### 'HouseStyle' is included"
   ]
  },
  {
   "cell_type": "markdown",
   "id": "blind-newsletter",
   "metadata": {},
   "source": [
    "# "
   ]
  },
  {
   "cell_type": "markdown",
   "id": "editorial-grammar",
   "metadata": {},
   "source": [
    "### 13. RoofStyle"
   ]
  },
  {
   "cell_type": "code",
   "execution_count": 69,
   "id": "still-privacy",
   "metadata": {},
   "outputs": [
    {
     "data": {
      "text/plain": [
       "<AxesSubplot:xlabel='RoofStyle', ylabel='Count'>"
      ]
     },
     "execution_count": 69,
     "metadata": {},
     "output_type": "execute_result"
    },
    {
     "data": {
      "image/png": "[encoded data removed]",
      "text/plain": [
       "<Figure size 432x288 with 1 Axes>"
      ]
     },
     "metadata": {
      "needs_background": "light"
     },
     "output_type": "display_data"
    }
   ],
   "source": [
    "sns.histplot(df, x = 'RoofStyle')"
   ]
  },
  {
   "cell_type": "code",
   "execution_count": 70,
   "id": "adequate-oxford",
   "metadata": {},
   "outputs": [
    {
     "data": {
      "text/plain": [
       "Gable      1141\n",
       "Hip         286\n",
       "Flat         13\n",
       "Gambrel      11\n",
       "Mansard       7\n",
       "Shed          2\n",
       "Name: RoofStyle, dtype: int64"
      ]
     },
     "execution_count": 70,
     "metadata": {},
     "output_type": "execute_result"
    }
   ],
   "source": [
    "df['RoofStyle'].value_counts()"
   ]
  },
  {
   "cell_type": "code",
   "execution_count": 71,
   "id": "disabled-values",
   "metadata": {},
   "outputs": [
    {
     "data": {
      "text/plain": [
       "<AxesSubplot:xlabel='RoofStyle', ylabel='SalePrice'>"
      ]
     },
     "execution_count": 71,
     "metadata": {},
     "output_type": "execute_result"
    },
    {
     "data": {
      "image/png": "[encoded data removed]",
      "text/plain": [
       "<Figure size 432x288 with 1 Axes>"
      ]
     },
     "metadata": {
      "needs_background": "light"
     },
     "output_type": "display_data"
    }
   ],
   "source": [
    "sns.boxplot(data = df, x = 'RoofStyle', y = 'SalePrice')"
   ]
  },
  {
   "cell_type": "code",
   "execution_count": 72,
   "id": "lucky-manhattan",
   "metadata": {},
   "outputs": [],
   "source": [
    "cat_to_exclude.append('RoofStyle')"
   ]
  },
  {
   "cell_type": "markdown",
   "id": "coated-trunk",
   "metadata": {},
   "source": [
    "##### 'RoofStyle' is excluded as it seems insignificant in modelling"
   ]
  },
  {
   "cell_type": "markdown",
   "id": "indie-skiing",
   "metadata": {},
   "source": [
    "# "
   ]
  },
  {
   "cell_type": "markdown",
   "id": "strong-corporation",
   "metadata": {},
   "source": [
    "### 14. RoofMatl"
   ]
  },
  {
   "cell_type": "code",
   "execution_count": 73,
   "id": "architectural-south",
   "metadata": {},
   "outputs": [
    {
     "data": {
      "text/plain": [
       "CompShg    1434\n",
       "Tar&Grv      11\n",
       "WdShngl       6\n",
       "WdShake       5\n",
       "ClyTile       1\n",
       "Membran       1\n",
       "Metal         1\n",
       "Roll          1\n",
       "Name: RoofMatl, dtype: int64"
      ]
     },
     "execution_count": 73,
     "metadata": {},
     "output_type": "execute_result"
    }
   ],
   "source": [
    "df['RoofMatl'].value_counts()"
   ]
  },
  {
   "cell_type": "code",
   "execution_count": 74,
   "id": "administrative-manitoba",
   "metadata": {},
   "outputs": [],
   "source": [
    "cat_to_exclude.append('RoofMatl')"
   ]
  },
  {
   "cell_type": "markdown",
   "id": "brutal-wildlife",
   "metadata": {},
   "source": [
    "##### 'RoofMatl' is excluded as it highly falls under 'CompShg'"
   ]
  },
  {
   "cell_type": "markdown",
   "id": "substantial-commissioner",
   "metadata": {},
   "source": [
    "# "
   ]
  },
  {
   "cell_type": "markdown",
   "id": "spoken-director",
   "metadata": {},
   "source": [
    "### 15. Exterior1st"
   ]
  },
  {
   "cell_type": "code",
   "execution_count": 75,
   "id": "sixth-tobago",
   "metadata": {},
   "outputs": [
    {
     "data": {
      "text/plain": [
       "VinylSd    515\n",
       "HdBoard    222\n",
       "MetalSd    220\n",
       "Wd Sdng    206\n",
       "Plywood    108\n",
       "CemntBd     61\n",
       "BrkFace     50\n",
       "WdShing     26\n",
       "Stucco      25\n",
       "AsbShng     20\n",
       "Stone        2\n",
       "BrkComm      2\n",
       "AsphShn      1\n",
       "ImStucc      1\n",
       "CBlock       1\n",
       "Name: Exterior1st, dtype: int64"
      ]
     },
     "execution_count": 75,
     "metadata": {},
     "output_type": "execute_result"
    }
   ],
   "source": [
    "df['Exterior1st'].value_counts()"
   ]
  },
  {
   "cell_type": "code",
   "execution_count": 76,
   "id": "instant-religion",
   "metadata": {},
   "outputs": [
    {
     "data": {
      "text/plain": [
       "<AxesSubplot:xlabel='Exterior1st', ylabel='Count'>"
      ]
     },
     "execution_count": 76,
     "metadata": {},
     "output_type": "execute_result"
    },
    {
     "data": {
      "image/png": "[encoded data removed]",
      "text/plain": [
       "<Figure size 432x288 with 1 Axes>"
      ]
     },
     "metadata": {
      "needs_background": "light"
     },
     "output_type": "display_data"
    }
   ],
   "source": [
    "sns.histplot(df, x = 'Exterior1st')"
   ]
  },
  {
   "cell_type": "code",
   "execution_count": 77,
   "id": "dimensional-female",
   "metadata": {},
   "outputs": [
    {
     "data": {
      "text/plain": [
       "<AxesSubplot:xlabel='Exterior1st', ylabel='SalePrice'>"
      ]
     },
     "execution_count": 77,
     "metadata": {},
     "output_type": "execute_result"
    },
    {
     "data": {
      "image/png": "[encoded data removed]",
      "text/plain": [
       "<Figure size 432x288 with 1 Axes>"
      ]
     },
     "metadata": {
      "needs_background": "light"
     },
     "output_type": "display_data"
    }
   ],
   "source": [
    "sns.boxplot(data = df, x= 'Exterior1st', y = 'SalePrice')"
   ]
  },
  {
   "cell_type": "code",
   "execution_count": 78,
   "id": "intense-chrome",
   "metadata": {},
   "outputs": [],
   "source": [
    "cat_to_include.append('Exterior1st')"
   ]
  },
  {
   "cell_type": "markdown",
   "id": "specified-binary",
   "metadata": {},
   "source": [
    "##### 'Exterior1st' is included"
   ]
  },
  {
   "cell_type": "markdown",
   "id": "under-mixer",
   "metadata": {},
   "source": [
    "# "
   ]
  },
  {
   "cell_type": "markdown",
   "id": "south-martin",
   "metadata": {},
   "source": [
    "### 16. Exterior2nd"
   ]
  },
  {
   "cell_type": "code",
   "execution_count": 79,
   "id": "danish-cedar",
   "metadata": {},
   "outputs": [
    {
     "data": {
      "text/plain": [
       "VinylSd    504\n",
       "MetalSd    214\n",
       "HdBoard    207\n",
       "Wd Sdng    197\n",
       "Plywood    142\n",
       "CmentBd     60\n",
       "Wd Shng     38\n",
       "Stucco      26\n",
       "BrkFace     25\n",
       "AsbShng     20\n",
       "ImStucc     10\n",
       "Brk Cmn      7\n",
       "Stone        5\n",
       "AsphShn      3\n",
       "Other        1\n",
       "CBlock       1\n",
       "Name: Exterior2nd, dtype: int64"
      ]
     },
     "execution_count": 79,
     "metadata": {},
     "output_type": "execute_result"
    }
   ],
   "source": [
    "df['Exterior2nd'].value_counts()"
   ]
  },
  {
   "cell_type": "code",
   "execution_count": 80,
   "id": "standing-period",
   "metadata": {},
   "outputs": [
    {
     "data": {
      "text/plain": [
       "<AxesSubplot:xlabel='Exterior2nd', ylabel='SalePrice'>"
      ]
     },
     "execution_count": 80,
     "metadata": {},
     "output_type": "execute_result"
    },
    {
     "data": {
      "image/png": "[encoded data removed]",
      "text/plain": [
       "<Figure size 432x288 with 1 Axes>"
      ]
     },
     "metadata": {
      "needs_background": "light"
     },
     "output_type": "display_data"
    }
   ],
   "source": [
    "sns.boxplot(data = df, x= 'Exterior2nd', y = 'SalePrice')"
   ]
  },
  {
   "cell_type": "code",
   "execution_count": 81,
   "id": "patient-olympus",
   "metadata": {},
   "outputs": [],
   "source": [
    "cat_to_include.append('Exterior2nd')"
   ]
  },
  {
   "cell_type": "markdown",
   "id": "essential-brand",
   "metadata": {},
   "source": [
    "##### 'Exterior2nd' is included."
   ]
  },
  {
   "cell_type": "markdown",
   "id": "completed-insert",
   "metadata": {},
   "source": [
    "# "
   ]
  },
  {
   "cell_type": "code",
   "execution_count": 83,
   "id": "alike-budget",
   "metadata": {},
   "outputs": [
    {
     "name": "stdout",
     "output_type": "stream",
     "text": [
      "<class 'pandas.core.frame.DataFrame'>\n",
      "RangeIndex: 1460 entries, 0 to 1459\n",
      "Data columns (total 63 columns):\n",
      "MSZoning         1460 non-null object\n",
      "LotFrontage      1201 non-null float64\n",
      "LotArea          1460 non-null int64\n",
      "Street           1460 non-null object\n",
      "LotShape         1460 non-null object\n",
      "LandContour      1460 non-null object\n",
      "Utilities        1460 non-null object\n",
      "LotConfig        1460 non-null object\n",
      "LandSlope        1460 non-null object\n",
      "Neighborhood     1460 non-null object\n",
      "Condition1       1460 non-null object\n",
      "Condition2       1460 non-null object\n",
      "BldgType         1460 non-null object\n",
      "HouseStyle       1460 non-null object\n",
      "OverallQual      1460 non-null int64\n",
      "YearBuilt        1460 non-null int64\n",
      "YearRemodAdd     1460 non-null int64\n",
      "RoofStyle        1460 non-null object\n",
      "RoofMatl         1460 non-null object\n",
      "Exterior1st      1460 non-null object\n",
      "Exterior2nd      1460 non-null object\n",
      "MasVnrType       1460 non-null object\n",
      "MasVnrArea       1460 non-null float64\n",
      "ExterQual        1460 non-null object\n",
      "ExterCond        1460 non-null object\n",
      "Foundation       1460 non-null object\n",
      "BsmtQual         1423 non-null object\n",
      "BsmtCond         1423 non-null object\n",
      "BsmtExposure     1422 non-null object\n",
      "BsmtFinType1     1423 non-null object\n",
      "BsmtFinSF1       1460 non-null int64\n",
      "BsmtFinType2     1422 non-null object\n",
      "BsmtUnfSF        1460 non-null int64\n",
      "TotalBsmtSF      1460 non-null int64\n",
      "Heating          1460 non-null object\n",
      "HeatingQC        1460 non-null object\n",
      "CentralAir       1460 non-null object\n",
      "Electrical       1460 non-null object\n",
      "1stFlrSF         1460 non-null int64\n",
      "2ndFlrSF         1460 non-null int64\n",
      "GrLivArea        1460 non-null int64\n",
      "BsmtFullBath     1460 non-null int64\n",
      "FullBath         1460 non-null int64\n",
      "HalfBath         1460 non-null int64\n",
      "BedroomAbvGr     1460 non-null int64\n",
      "KitchenQual      1460 non-null object\n",
      "TotRmsAbvGrd     1460 non-null int64\n",
      "Functional       1460 non-null object\n",
      "Fireplaces       1460 non-null int64\n",
      "GarageType       1379 non-null object\n",
      "GarageYrBlt      1379 non-null float64\n",
      "GarageFinish     1379 non-null object\n",
      "GarageCars       1460 non-null int64\n",
      "GarageArea       1460 non-null int64\n",
      "GarageQual       1379 non-null object\n",
      "GarageCond       1379 non-null object\n",
      "PavedDrive       1460 non-null object\n",
      "WoodDeckSF       1460 non-null int64\n",
      "OpenPorchSF      1460 non-null int64\n",
      "ScreenPorch      1460 non-null int64\n",
      "SaleType         1460 non-null object\n",
      "SaleCondition    1460 non-null object\n",
      "SalePrice        1460 non-null int64\n",
      "dtypes: float64(3), int64(22), object(38)\n",
      "memory usage: 718.7+ KB\n"
     ]
    }
   ],
   "source": [
    "df.info()"
   ]
  },
  {
   "cell_type": "markdown",
   "id": "mental-bhutan",
   "metadata": {},
   "source": [
    "### 17. MasVnrType"
   ]
  },
  {
   "cell_type": "code",
   "execution_count": 84,
   "id": "joint-diamond",
   "metadata": {},
   "outputs": [
    {
     "data": {
      "text/plain": [
       "<AxesSubplot:xlabel='MasVnrType', ylabel='Count'>"
      ]
     },
     "execution_count": 84,
     "metadata": {},
     "output_type": "execute_result"
    },
    {
     "data": {
      "image/png": "[encoded data removed]",
      "text/plain": [
       "<Figure size 432x288 with 1 Axes>"
      ]
     },
     "metadata": {
      "needs_background": "light"
     },
     "output_type": "display_data"
    }
   ],
   "source": [
    "sns.histplot(df, x = 'MasVnrType')"
   ]
  },
  {
   "cell_type": "code",
   "execution_count": 86,
   "id": "automatic-island",
   "metadata": {},
   "outputs": [
    {
     "data": {
      "text/plain": [
       "<AxesSubplot:xlabel='MasVnrType', ylabel='SalePrice'>"
      ]
     },
     "execution_count": 86,
     "metadata": {},
     "output_type": "execute_result"
    },
    {
     "data": {
      "image/png": "[encoded data removed]",
      "text/plain": [
       "<Figure size 432x288 with 1 Axes>"
      ]
     },
     "metadata": {
      "needs_background": "light"
     },
     "output_type": "display_data"
    }
   ],
   "source": [
    "sns.boxplot(data = df, x = 'MasVnrType', y = 'SalePrice')"
   ]
  },
  {
   "cell_type": "code",
   "execution_count": 87,
   "id": "genetic-variation",
   "metadata": {},
   "outputs": [],
   "source": [
    "cat_to_include.append('MasVnrType')"
   ]
  },
  {
   "cell_type": "markdown",
   "id": "powerful-bernard",
   "metadata": {},
   "source": [
    "##### 'MasVnrType' is included as the values are distributed"
   ]
  },
  {
   "cell_type": "markdown",
   "id": "otherwise-allowance",
   "metadata": {},
   "source": [
    "# "
   ]
  },
  {
   "cell_type": "markdown",
   "id": "intense-prerequisite",
   "metadata": {},
   "source": [
    "### 18. ExterQual"
   ]
  },
  {
   "cell_type": "code",
   "execution_count": 88,
   "id": "solid-inspection",
   "metadata": {},
   "outputs": [
    {
     "data": {
      "text/plain": [
       "<AxesSubplot:xlabel='ExterQual', ylabel='SalePrice'>"
      ]
     },
     "execution_count": 88,
     "metadata": {},
     "output_type": "execute_result"
    },
    {
     "data": {
      "image/png": "[encoded data removed]",
      "text/plain": [
       "<Figure size 432x288 with 1 Axes>"
      ]
     },
     "metadata": {
      "needs_background": "light"
     },
     "output_type": "display_data"
    }
   ],
   "source": [
    "sns.boxplot(data = df, x = 'ExterQual', y = 'SalePrice')"
   ]
  },
  {
   "cell_type": "code",
   "execution_count": 89,
   "id": "compatible-robertson",
   "metadata": {},
   "outputs": [
    {
     "data": {
      "text/plain": [
       "TA    906\n",
       "Gd    488\n",
       "Ex     52\n",
       "Fa     14\n",
       "Name: ExterQual, dtype: int64"
      ]
     },
     "execution_count": 89,
     "metadata": {},
     "output_type": "execute_result"
    }
   ],
   "source": [
    "df['ExterQual'].value_counts()"
   ]
  },
  {
   "cell_type": "code",
   "execution_count": 90,
   "id": "fleet-knock",
   "metadata": {},
   "outputs": [],
   "source": [
    "cat_to_include.append('ExterQual')"
   ]
  },
  {
   "cell_type": "markdown",
   "id": "infrared-suspect",
   "metadata": {},
   "source": [
    "##### 'ExterQual' is included"
   ]
  },
  {
   "cell_type": "markdown",
   "id": "physical-involvement",
   "metadata": {},
   "source": [
    "# "
   ]
  },
  {
   "cell_type": "markdown",
   "id": "reverse-brunswick",
   "metadata": {},
   "source": [
    "### 19. ExterCond"
   ]
  },
  {
   "cell_type": "code",
   "execution_count": 91,
   "id": "normal-continent",
   "metadata": {},
   "outputs": [
    {
     "data": {
      "text/plain": [
       "<AxesSubplot:xlabel='ExterCond', ylabel='Count'>"
      ]
     },
     "execution_count": 91,
     "metadata": {},
     "output_type": "execute_result"
    },
    {
     "data": {
      "image/png": "[encoded data removed]",
      "text/plain": [
       "<Figure size 432x288 with 1 Axes>"
      ]
     },
     "metadata": {
      "needs_background": "light"
     },
     "output_type": "display_data"
    }
   ],
   "source": [
    "sns.histplot(df, x = 'ExterCond')"
   ]
  },
  {
   "cell_type": "code",
   "execution_count": 93,
   "id": "present-concert",
   "metadata": {},
   "outputs": [
    {
     "data": {
      "text/plain": [
       "TA    1282\n",
       "Gd     146\n",
       "Fa      28\n",
       "Ex       3\n",
       "Po       1\n",
       "Name: ExterCond, dtype: int64"
      ]
     },
     "execution_count": 93,
     "metadata": {},
     "output_type": "execute_result"
    }
   ],
   "source": [
    "df['ExterCond'].value_counts()"
   ]
  },
  {
   "cell_type": "code",
   "execution_count": 94,
   "id": "sudden-signal",
   "metadata": {},
   "outputs": [],
   "source": [
    "cat_to_exclude.append('ExterCond')"
   ]
  },
  {
   "cell_type": "markdown",
   "id": "cellular-playing",
   "metadata": {},
   "source": [
    "##### 'ExterCond' is excluded"
   ]
  },
  {
   "cell_type": "markdown",
   "id": "sized-blocking",
   "metadata": {},
   "source": [
    "# "
   ]
  },
  {
   "cell_type": "markdown",
   "id": "pediatric-stroke",
   "metadata": {},
   "source": [
    "### 20. Foundation"
   ]
  },
  {
   "cell_type": "code",
   "execution_count": 95,
   "id": "sitting-performance",
   "metadata": {},
   "outputs": [
    {
     "data": {
      "text/plain": [
       "<AxesSubplot:xlabel='Foundation', ylabel='Count'>"
      ]
     },
     "execution_count": 95,
     "metadata": {},
     "output_type": "execute_result"
    },
    {
     "data": {
      "image/png": "[encoded data removed]",
      "text/plain": [
       "<Figure size 432x288 with 1 Axes>"
      ]
     },
     "metadata": {
      "needs_background": "light"
     },
     "output_type": "display_data"
    }
   ],
   "source": [
    "sns.histplot(df, x ='Foundation')"
   ]
  },
  {
   "cell_type": "code",
   "execution_count": 96,
   "id": "decreased-surfing",
   "metadata": {},
   "outputs": [
    {
     "data": {
      "text/plain": [
       "<AxesSubplot:xlabel='Foundation', ylabel='SalePrice'>"
      ]
     },
     "execution_count": 96,
     "metadata": {},
     "output_type": "execute_result"
    },
    {
     "data": {
      "image/png": "[encoded data removed]",
      "text/plain": [
       "<Figure size 432x288 with 1 Axes>"
      ]
     },
     "metadata": {
      "needs_background": "light"
     },
     "output_type": "display_data"
    }
   ],
   "source": [
    "sns.boxplot(data = df, x = 'Foundation', y = 'SalePrice')"
   ]
  },
  {
   "cell_type": "code",
   "execution_count": 97,
   "id": "systematic-sunset",
   "metadata": {},
   "outputs": [],
   "source": [
    "cat_to_exclude.append('Foundation')"
   ]
  },
  {
   "cell_type": "markdown",
   "id": "boring-denver",
   "metadata": {},
   "source": [
    "# "
   ]
  },
  {
   "cell_type": "markdown",
   "id": "lined-assault",
   "metadata": {},
   "source": [
    "### 21. BsmtQual"
   ]
  },
  {
   "cell_type": "code",
   "execution_count": 98,
   "id": "brief-taste",
   "metadata": {},
   "outputs": [
    {
     "data": {
      "text/plain": [
       "TA    649\n",
       "Gd    618\n",
       "Ex    121\n",
       "Fa     35\n",
       "Name: BsmtQual, dtype: int64"
      ]
     },
     "execution_count": 98,
     "metadata": {},
     "output_type": "execute_result"
    }
   ],
   "source": [
    "df['BsmtQual'].value_counts()"
   ]
  },
  {
   "cell_type": "code",
   "execution_count": 99,
   "id": "greek-breed",
   "metadata": {},
   "outputs": [
    {
     "data": {
      "text/plain": [
       "<AxesSubplot:xlabel='BsmtQual', ylabel='SalePrice'>"
      ]
     },
     "execution_count": 99,
     "metadata": {},
     "output_type": "execute_result"
    },
    {
     "data": {
      "image/png": "[encoded data removed]",
      "text/plain": [
       "<Figure size 432x288 with 1 Axes>"
      ]
     },
     "metadata": {
      "needs_background": "light"
     },
     "output_type": "display_data"
    }
   ],
   "source": [
    "sns.boxplot(data = df, x = 'BsmtQual', y = 'SalePrice')"
   ]
  },
  {
   "cell_type": "code",
   "execution_count": 100,
   "id": "requested-hours",
   "metadata": {},
   "outputs": [],
   "source": [
    "cat_to_include.append('BsmtQual')"
   ]
  },
  {
   "cell_type": "markdown",
   "id": "bound-mainland",
   "metadata": {},
   "source": [
    "##### 'BsmtQual' best categorical variable till now for modelling"
   ]
  },
  {
   "cell_type": "markdown",
   "id": "lovely-salem",
   "metadata": {},
   "source": [
    "# "
   ]
  },
  {
   "cell_type": "markdown",
   "id": "strategic-allah",
   "metadata": {},
   "source": [
    "### 22. BsmtCond"
   ]
  },
  {
   "cell_type": "code",
   "execution_count": 104,
   "id": "brief-coffee",
   "metadata": {},
   "outputs": [
    {
     "data": {
      "text/plain": [
       "TA    1311\n",
       "Gd      65\n",
       "Fa      45\n",
       "Po       2\n",
       "Name: BsmtCond, dtype: int64"
      ]
     },
     "execution_count": 104,
     "metadata": {},
     "output_type": "execute_result"
    }
   ],
   "source": [
    "df['BsmtCond'].value_counts()"
   ]
  },
  {
   "cell_type": "code",
   "execution_count": 107,
   "id": "preceding-composite",
   "metadata": {},
   "outputs": [],
   "source": [
    "cat_to_exclude.append('BsmtCond')"
   ]
  },
  {
   "cell_type": "markdown",
   "id": "sporting-single",
   "metadata": {},
   "source": [
    "##### 'BsmtCond' is excluded"
   ]
  },
  {
   "cell_type": "markdown",
   "id": "characteristic-vancouver",
   "metadata": {},
   "source": [
    "# "
   ]
  },
  {
   "cell_type": "markdown",
   "id": "refined-failure",
   "metadata": {},
   "source": [
    "### 23. BsmtExposure"
   ]
  },
  {
   "cell_type": "code",
   "execution_count": 108,
   "id": "patient-sheet",
   "metadata": {},
   "outputs": [
    {
     "data": {
      "text/plain": [
       "No    953\n",
       "Av    221\n",
       "Gd    134\n",
       "Mn    114\n",
       "Name: BsmtExposure, dtype: int64"
      ]
     },
     "execution_count": 108,
     "metadata": {},
     "output_type": "execute_result"
    }
   ],
   "source": [
    "df['BsmtExposure']. value_counts()"
   ]
  },
  {
   "cell_type": "code",
   "execution_count": 109,
   "id": "color-interest",
   "metadata": {},
   "outputs": [],
   "source": [
    "cat_to_include.append('BsmtExposure')"
   ]
  },
  {
   "cell_type": "markdown",
   "id": "analyzed-phoenix",
   "metadata": {},
   "source": [
    "##### 'BsmtExposure' is included\n",
    "# "
   ]
  },
  {
   "cell_type": "code",
   "execution_count": 112,
   "id": "forbidden-parks",
   "metadata": {},
   "outputs": [
    {
     "name": "stdout",
     "output_type": "stream",
     "text": [
      "<class 'pandas.core.frame.DataFrame'>\n",
      "RangeIndex: 1460 entries, 0 to 1459\n",
      "Data columns (total 63 columns):\n",
      "MSZoning         1460 non-null object\n",
      "LotFrontage      1201 non-null float64\n",
      "LotArea          1460 non-null int64\n",
      "Street           1460 non-null object\n",
      "LotShape         1460 non-null object\n",
      "LandContour      1460 non-null object\n",
      "Utilities        1460 non-null object\n",
      "LotConfig        1460 non-null object\n",
      "LandSlope        1460 non-null object\n",
      "Neighborhood     1460 non-null object\n",
      "Condition1       1460 non-null object\n",
      "Condition2       1460 non-null object\n",
      "BldgType         1460 non-null object\n",
      "HouseStyle       1460 non-null object\n",
      "OverallQual      1460 non-null int64\n",
      "YearBuilt        1460 non-null int64\n",
      "YearRemodAdd     1460 non-null int64\n",
      "RoofStyle        1460 non-null object\n",
      "RoofMatl         1460 non-null object\n",
      "Exterior1st      1460 non-null object\n",
      "Exterior2nd      1460 non-null object\n",
      "MasVnrType       1460 non-null object\n",
      "MasVnrArea       1460 non-null float64\n",
      "ExterQual        1460 non-null object\n",
      "ExterCond        1460 non-null object\n",
      "Foundation       1460 non-null object\n",
      "BsmtQual         1423 non-null object\n",
      "BsmtCond         1423 non-null object\n",
      "BsmtExposure     1422 non-null object\n",
      "BsmtFinType1     1423 non-null object\n",
      "BsmtFinSF1       1460 non-null int64\n",
      "BsmtFinType2     1422 non-null object\n",
      "BsmtUnfSF        1460 non-null int64\n",
      "TotalBsmtSF      1460 non-null int64\n",
      "Heating          1460 non-null object\n",
      "HeatingQC        1460 non-null object\n",
      "CentralAir       1460 non-null object\n",
      "Electrical       1460 non-null object\n",
      "1stFlrSF         1460 non-null int64\n",
      "2ndFlrSF         1460 non-null int64\n",
      "GrLivArea        1460 non-null int64\n",
      "BsmtFullBath     1460 non-null int64\n",
      "FullBath         1460 non-null int64\n",
      "HalfBath         1460 non-null int64\n",
      "BedroomAbvGr     1460 non-null int64\n",
      "KitchenQual      1460 non-null object\n",
      "TotRmsAbvGrd     1460 non-null int64\n",
      "Functional       1460 non-null object\n",
      "Fireplaces       1460 non-null int64\n",
      "GarageType       1379 non-null object\n",
      "GarageYrBlt      1379 non-null float64\n",
      "GarageFinish     1379 non-null object\n",
      "GarageCars       1460 non-null int64\n",
      "GarageArea       1460 non-null int64\n",
      "GarageQual       1379 non-null object\n",
      "GarageCond       1379 non-null object\n",
      "PavedDrive       1460 non-null object\n",
      "WoodDeckSF       1460 non-null int64\n",
      "OpenPorchSF      1460 non-null int64\n",
      "ScreenPorch      1460 non-null int64\n",
      "SaleType         1460 non-null object\n",
      "SaleCondition    1460 non-null object\n",
      "SalePrice        1460 non-null int64\n",
      "dtypes: float64(3), int64(22), object(38)\n",
      "memory usage: 718.7+ KB\n"
     ]
    }
   ],
   "source": [
    "df.info()"
   ]
  },
  {
   "cell_type": "markdown",
   "id": "packed-letter",
   "metadata": {},
   "source": [
    "# 24. BsmtFinType1"
   ]
  },
  {
   "cell_type": "code",
   "execution_count": 110,
   "id": "personal-generation",
   "metadata": {},
   "outputs": [
    {
     "data": {
      "text/plain": [
       "Unf    430\n",
       "GLQ    418\n",
       "ALQ    220\n",
       "BLQ    148\n",
       "Rec    133\n",
       "LwQ     74\n",
       "Name: BsmtFinType1, dtype: int64"
      ]
     },
     "execution_count": 110,
     "metadata": {},
     "output_type": "execute_result"
    }
   ],
   "source": [
    "df['BsmtFinType1'].value_counts()"
   ]
  },
  {
   "cell_type": "code",
   "execution_count": 113,
   "id": "french-airplane",
   "metadata": {},
   "outputs": [
    {
     "data": {
      "text/plain": [
       "<AxesSubplot:xlabel='BsmtFinType1', ylabel='SalePrice'>"
      ]
     },
     "execution_count": 113,
     "metadata": {},
     "output_type": "execute_result"
    },
    {
     "data": {
      "image/png": "[encoded data removed]",
      "text/plain": [
       "<Figure size 432x288 with 1 Axes>"
      ]
     },
     "metadata": {
      "needs_background": "light"
     },
     "output_type": "display_data"
    }
   ],
   "source": [
    "sns.boxplot(data = df, x = 'BsmtFinType1', y = 'SalePrice')"
   ]
  },
  {
   "cell_type": "code",
   "execution_count": 114,
   "id": "married-compound",
   "metadata": {},
   "outputs": [],
   "source": [
    "cat_to_include.append('BsmtFinType1')"
   ]
  },
  {
   "cell_type": "markdown",
   "id": "ready-spyware",
   "metadata": {},
   "source": [
    "##### 'BsmtFinType1' is included\n",
    "# "
   ]
  },
  {
   "cell_type": "markdown",
   "id": "national-stake",
   "metadata": {},
   "source": [
    "### 25. BsmtFinType2"
   ]
  },
  {
   "cell_type": "code",
   "execution_count": 115,
   "id": "hawaiian-agency",
   "metadata": {},
   "outputs": [
    {
     "data": {
      "text/plain": [
       "Unf    1256\n",
       "Rec      54\n",
       "LwQ      46\n",
       "BLQ      33\n",
       "ALQ      19\n",
       "GLQ      14\n",
       "Name: BsmtFinType2, dtype: int64"
      ]
     },
     "execution_count": 115,
     "metadata": {},
     "output_type": "execute_result"
    }
   ],
   "source": [
    "df['BsmtFinType2'].value_counts()"
   ]
  },
  {
   "cell_type": "code",
   "execution_count": 116,
   "id": "impressive-africa",
   "metadata": {},
   "outputs": [],
   "source": [
    "cat_to_exclude.append('BsmtFinType2')"
   ]
  },
  {
   "cell_type": "markdown",
   "id": "fresh-finder",
   "metadata": {},
   "source": [
    "##### 'BsmtFinType2' is excluded\n",
    "# "
   ]
  },
  {
   "cell_type": "markdown",
   "id": "backed-vessel",
   "metadata": {},
   "source": [
    "### 26. Heating"
   ]
  },
  {
   "cell_type": "code",
   "execution_count": 118,
   "id": "innovative-portfolio",
   "metadata": {},
   "outputs": [
    {
     "data": {
      "text/plain": [
       "GasA     1428\n",
       "GasW       18\n",
       "Grav        7\n",
       "Wall        4\n",
       "OthW        2\n",
       "Floor       1\n",
       "Name: Heating, dtype: int64"
      ]
     },
     "execution_count": 118,
     "metadata": {},
     "output_type": "execute_result"
    }
   ],
   "source": [
    "df['Heating'].value_counts()"
   ]
  },
  {
   "cell_type": "code",
   "execution_count": 119,
   "id": "afraid-promise",
   "metadata": {},
   "outputs": [
    {
     "data": {
      "text/plain": [
       "<AxesSubplot:xlabel='Heating', ylabel='SalePrice'>"
      ]
     },
     "execution_count": 119,
     "metadata": {},
     "output_type": "execute_result"
    },
    {
     "data": {
      "image/png": "[encoded data removed]",
      "text/plain": [
       "<Figure size 432x288 with 1 Axes>"
      ]
     },
     "metadata": {
      "needs_background": "light"
     },
     "output_type": "display_data"
    }
   ],
   "source": [
    "sns.boxplot(data =df, x ='Heating', y = 'SalePrice')"
   ]
  },
  {
   "cell_type": "code",
   "execution_count": 120,
   "id": "unavailable-determination",
   "metadata": {},
   "outputs": [],
   "source": [
    "cat_to_exclude.append('Heating')"
   ]
  },
  {
   "cell_type": "markdown",
   "id": "brutal-associate",
   "metadata": {},
   "source": [
    "##### 'Heating' is excluded as almost all are 'GasA'\n",
    "# "
   ]
  },
  {
   "cell_type": "markdown",
   "id": "intimate-catholic",
   "metadata": {},
   "source": [
    "### 27. HeatingQC"
   ]
  },
  {
   "cell_type": "code",
   "execution_count": 121,
   "id": "rising-slovakia",
   "metadata": {},
   "outputs": [
    {
     "data": {
      "text/plain": [
       "Ex    741\n",
       "TA    428\n",
       "Gd    241\n",
       "Fa     49\n",
       "Po      1\n",
       "Name: HeatingQC, dtype: int64"
      ]
     },
     "execution_count": 121,
     "metadata": {},
     "output_type": "execute_result"
    }
   ],
   "source": [
    "df['HeatingQC'].value_counts()"
   ]
  },
  {
   "cell_type": "code",
   "execution_count": 122,
   "id": "incorporated-exercise",
   "metadata": {},
   "outputs": [
    {
     "data": {
      "text/plain": [
       "<AxesSubplot:xlabel='HeatingQC', ylabel='SalePrice'>"
      ]
     },
     "execution_count": 122,
     "metadata": {},
     "output_type": "execute_result"
    },
    {
     "data": {
      "image/png": "[encoded data removed]",
      "text/plain": [
       "<Figure size 432x288 with 1 Axes>"
      ]
     },
     "metadata": {
      "needs_background": "light"
     },
     "output_type": "display_data"
    }
   ],
   "source": [
    "sns.boxplot(data =df, x = 'HeatingQC', y = 'SalePrice')"
   ]
  },
  {
   "cell_type": "code",
   "execution_count": 123,
   "id": "blank-combination",
   "metadata": {},
   "outputs": [
    {
     "data": {
      "text/plain": [
       "12"
      ]
     },
     "execution_count": 123,
     "metadata": {},
     "output_type": "execute_result"
    }
   ],
   "source": [
    "cat_to_include.append('HeatingQC')\n",
    "len(cat_to_include)"
   ]
  },
  {
   "cell_type": "code",
   "execution_count": 124,
   "id": "rapid-consistency",
   "metadata": {},
   "outputs": [
    {
     "data": {
      "text/plain": [
       "15"
      ]
     },
     "execution_count": 124,
     "metadata": {},
     "output_type": "execute_result"
    }
   ],
   "source": [
    "len(cat_to_exclude)"
   ]
  },
  {
   "cell_type": "code",
   "execution_count": 125,
   "id": "maritime-message",
   "metadata": {},
   "outputs": [
    {
     "name": "stdout",
     "output_type": "stream",
     "text": [
      "<class 'pandas.core.frame.DataFrame'>\n",
      "RangeIndex: 1460 entries, 0 to 1459\n",
      "Data columns (total 63 columns):\n",
      "MSZoning         1460 non-null object\n",
      "LotFrontage      1201 non-null float64\n",
      "LotArea          1460 non-null int64\n",
      "Street           1460 non-null object\n",
      "LotShape         1460 non-null object\n",
      "LandContour      1460 non-null object\n",
      "Utilities        1460 non-null object\n",
      "LotConfig        1460 non-null object\n",
      "LandSlope        1460 non-null object\n",
      "Neighborhood     1460 non-null object\n",
      "Condition1       1460 non-null object\n",
      "Condition2       1460 non-null object\n",
      "BldgType         1460 non-null object\n",
      "HouseStyle       1460 non-null object\n",
      "OverallQual      1460 non-null int64\n",
      "YearBuilt        1460 non-null int64\n",
      "YearRemodAdd     1460 non-null int64\n",
      "RoofStyle        1460 non-null object\n",
      "RoofMatl         1460 non-null object\n",
      "Exterior1st      1460 non-null object\n",
      "Exterior2nd      1460 non-null object\n",
      "MasVnrType       1460 non-null object\n",
      "MasVnrArea       1460 non-null float64\n",
      "ExterQual        1460 non-null object\n",
      "ExterCond        1460 non-null object\n",
      "Foundation       1460 non-null object\n",
      "BsmtQual         1423 non-null object\n",
      "BsmtCond         1423 non-null object\n",
      "BsmtExposure     1422 non-null object\n",
      "BsmtFinType1     1423 non-null object\n",
      "BsmtFinSF1       1460 non-null int64\n",
      "BsmtFinType2     1422 non-null object\n",
      "BsmtUnfSF        1460 non-null int64\n",
      "TotalBsmtSF      1460 non-null int64\n",
      "Heating          1460 non-null object\n",
      "HeatingQC        1460 non-null object\n",
      "CentralAir       1460 non-null object\n",
      "Electrical       1460 non-null object\n",
      "1stFlrSF         1460 non-null int64\n",
      "2ndFlrSF         1460 non-null int64\n",
      "GrLivArea        1460 non-null int64\n",
      "BsmtFullBath     1460 non-null int64\n",
      "FullBath         1460 non-null int64\n",
      "HalfBath         1460 non-null int64\n",
      "BedroomAbvGr     1460 non-null int64\n",
      "KitchenQual      1460 non-null object\n",
      "TotRmsAbvGrd     1460 non-null int64\n",
      "Functional       1460 non-null object\n",
      "Fireplaces       1460 non-null int64\n",
      "GarageType       1379 non-null object\n",
      "GarageYrBlt      1379 non-null float64\n",
      "GarageFinish     1379 non-null object\n",
      "GarageCars       1460 non-null int64\n",
      "GarageArea       1460 non-null int64\n",
      "GarageQual       1379 non-null object\n",
      "GarageCond       1379 non-null object\n",
      "PavedDrive       1460 non-null object\n",
      "WoodDeckSF       1460 non-null int64\n",
      "OpenPorchSF      1460 non-null int64\n",
      "ScreenPorch      1460 non-null int64\n",
      "SaleType         1460 non-null object\n",
      "SaleCondition    1460 non-null object\n",
      "SalePrice        1460 non-null int64\n",
      "dtypes: float64(3), int64(22), object(38)\n",
      "memory usage: 718.7+ KB\n"
     ]
    }
   ],
   "source": [
    "df.info()"
   ]
  },
  {
   "cell_type": "markdown",
   "id": "sophisticated-picnic",
   "metadata": {},
   "source": [
    "### 28. Central Air"
   ]
  },
  {
   "cell_type": "code",
   "execution_count": 127,
   "id": "immune-closure",
   "metadata": {},
   "outputs": [
    {
     "data": {
      "text/plain": [
       "Y    1365\n",
       "N      95\n",
       "Name: CentralAir, dtype: int64"
      ]
     },
     "execution_count": 127,
     "metadata": {},
     "output_type": "execute_result"
    }
   ],
   "source": [
    "df['CentralAir'].value_counts()"
   ]
  },
  {
   "cell_type": "code",
   "execution_count": 128,
   "id": "mexican-failing",
   "metadata": {},
   "outputs": [],
   "source": [
    "cat_to_exclude.append('CentralAir')"
   ]
  },
  {
   "cell_type": "markdown",
   "id": "forced-custody",
   "metadata": {},
   "source": [
    "### 29. Electrical"
   ]
  },
  {
   "cell_type": "code",
   "execution_count": 129,
   "id": "familiar-bandwidth",
   "metadata": {},
   "outputs": [
    {
     "data": {
      "text/plain": [
       "SBrkr    1335\n",
       "FuseA      94\n",
       "FuseF      27\n",
       "FuseP       3\n",
       "Mix         1\n",
       "Name: Electrical, dtype: int64"
      ]
     },
     "execution_count": 129,
     "metadata": {},
     "output_type": "execute_result"
    }
   ],
   "source": [
    "df['Electrical'].value_counts()"
   ]
  },
  {
   "cell_type": "code",
   "execution_count": 130,
   "id": "rough-rebecca",
   "metadata": {},
   "outputs": [
    {
     "data": {
      "text/plain": [
       "<AxesSubplot:xlabel='Electrical', ylabel='SalePrice'>"
      ]
     },
     "execution_count": 130,
     "metadata": {},
     "output_type": "execute_result"
    },
    {
     "data": {
      "image/png": "[encoded data removed]",
      "text/plain": [
       "<Figure size 432x288 with 1 Axes>"
      ]
     },
     "metadata": {
      "needs_background": "light"
     },
     "output_type": "display_data"
    }
   ],
   "source": [
    "sns.boxplot(data = df, x ='Electrical', y ='SalePrice')"
   ]
  },
  {
   "cell_type": "code",
   "execution_count": 131,
   "id": "democratic-closure",
   "metadata": {},
   "outputs": [],
   "source": [
    "cat_to_exclude.append('Electrical')"
   ]
  },
  {
   "cell_type": "markdown",
   "id": "tight-plymouth",
   "metadata": {},
   "source": [
    "##### 'Electrical' is excluded\n",
    "# "
   ]
  },
  {
   "cell_type": "markdown",
   "id": "significant-introduction",
   "metadata": {},
   "source": [
    "### 30. KitchenQual "
   ]
  },
  {
   "cell_type": "code",
   "execution_count": 132,
   "id": "collect-switzerland",
   "metadata": {},
   "outputs": [
    {
     "data": {
      "text/plain": [
       "TA    735\n",
       "Gd    586\n",
       "Ex    100\n",
       "Fa     39\n",
       "Name: KitchenQual, dtype: int64"
      ]
     },
     "execution_count": 132,
     "metadata": {},
     "output_type": "execute_result"
    }
   ],
   "source": [
    "df['KitchenQual'].value_counts()"
   ]
  },
  {
   "cell_type": "code",
   "execution_count": 133,
   "id": "banner-memphis",
   "metadata": {},
   "outputs": [
    {
     "data": {
      "text/plain": [
       "<AxesSubplot:xlabel='KitchenQual', ylabel='SalePrice'>"
      ]
     },
     "execution_count": 133,
     "metadata": {},
     "output_type": "execute_result"
    },
    {
     "data": {
      "image/png": "[encoded data removed]",
      "text/plain": [
       "<Figure size 432x288 with 1 Axes>"
      ]
     },
     "metadata": {
      "needs_background": "light"
     },
     "output_type": "display_data"
    }
   ],
   "source": [
    "sns.boxplot(data = df, x = 'KitchenQual', y = 'SalePrice')"
   ]
  },
  {
   "cell_type": "code",
   "execution_count": 134,
   "id": "skilled-floor",
   "metadata": {},
   "outputs": [],
   "source": [
    "cat_to_include.append('KitchenQual')"
   ]
  },
  {
   "cell_type": "markdown",
   "id": "green-plenty",
   "metadata": {},
   "source": [
    "##### 'KitchenQual' is included\n",
    "# "
   ]
  },
  {
   "cell_type": "markdown",
   "id": "instrumental-antique",
   "metadata": {},
   "source": [
    "### 31. Functional"
   ]
  },
  {
   "cell_type": "code",
   "execution_count": 135,
   "id": "piano-penguin",
   "metadata": {},
   "outputs": [
    {
     "data": {
      "text/plain": [
       "Typ     1360\n",
       "Min2      34\n",
       "Min1      31\n",
       "Mod       15\n",
       "Maj1      14\n",
       "Maj2       5\n",
       "Sev        1\n",
       "Name: Functional, dtype: int64"
      ]
     },
     "execution_count": 135,
     "metadata": {},
     "output_type": "execute_result"
    }
   ],
   "source": [
    "df['Functional'].value_counts()"
   ]
  },
  {
   "cell_type": "code",
   "execution_count": 136,
   "id": "nominated-desperate",
   "metadata": {},
   "outputs": [
    {
     "data": {
      "text/plain": [
       "<AxesSubplot:xlabel='Functional', ylabel='SalePrice'>"
      ]
     },
     "execution_count": 136,
     "metadata": {},
     "output_type": "execute_result"
    },
    {
     "data": {
      "image/png": "[encoded data removed]",
      "text/plain": [
       "<Figure size 432x288 with 1 Axes>"
      ]
     },
     "metadata": {
      "needs_background": "light"
     },
     "output_type": "display_data"
    }
   ],
   "source": [
    "sns.boxplot(data = df, x = 'Functional', y ='SalePrice')"
   ]
  },
  {
   "cell_type": "code",
   "execution_count": 137,
   "id": "detected-separate",
   "metadata": {},
   "outputs": [],
   "source": [
    "cat_to_exclude.append('Functional')"
   ]
  },
  {
   "cell_type": "markdown",
   "id": "vertical-eating",
   "metadata": {},
   "source": [
    "##### 'Functional'  is excluded\n",
    "# "
   ]
  },
  {
   "cell_type": "markdown",
   "id": "afraid-kernel",
   "metadata": {},
   "source": [
    "### 32. GarageType"
   ]
  },
  {
   "cell_type": "code",
   "execution_count": 138,
   "id": "light-spirit",
   "metadata": {},
   "outputs": [
    {
     "data": {
      "text/plain": [
       "Attchd     870\n",
       "Detchd     387\n",
       "BuiltIn     88\n",
       "Basment     19\n",
       "CarPort      9\n",
       "2Types       6\n",
       "Name: GarageType, dtype: int64"
      ]
     },
     "execution_count": 138,
     "metadata": {},
     "output_type": "execute_result"
    }
   ],
   "source": [
    "df['GarageType'].value_counts()"
   ]
  },
  {
   "cell_type": "code",
   "execution_count": 139,
   "id": "distinct-still",
   "metadata": {},
   "outputs": [
    {
     "data": {
      "text/plain": [
       "<AxesSubplot:xlabel='GarageType', ylabel='SalePrice'>"
      ]
     },
     "execution_count": 139,
     "metadata": {},
     "output_type": "execute_result"
    },
    {
     "data": {
      "image/png": "[encoded data removed]",
      "text/plain": [
       "<Figure size 432x288 with 1 Axes>"
      ]
     },
     "metadata": {
      "needs_background": "light"
     },
     "output_type": "display_data"
    }
   ],
   "source": [
    "sns.boxplot(data =df, x ='GarageType', y = 'SalePrice')"
   ]
  },
  {
   "cell_type": "code",
   "execution_count": 140,
   "id": "appreciated-rugby",
   "metadata": {},
   "outputs": [],
   "source": [
    "cat_to_include.append('GarageType')"
   ]
  },
  {
   "cell_type": "markdown",
   "id": "recovered-stamp",
   "metadata": {},
   "source": [
    "##### 'GarageType' is included\n",
    "# "
   ]
  },
  {
   "cell_type": "markdown",
   "id": "virtual-advertiser",
   "metadata": {},
   "source": [
    "### 33. GarageFinish"
   ]
  },
  {
   "cell_type": "code",
   "execution_count": 141,
   "id": "attractive-request",
   "metadata": {},
   "outputs": [
    {
     "data": {
      "text/plain": [
       "Unf    605\n",
       "RFn    422\n",
       "Fin    352\n",
       "Name: GarageFinish, dtype: int64"
      ]
     },
     "execution_count": 141,
     "metadata": {},
     "output_type": "execute_result"
    }
   ],
   "source": [
    "df['GarageFinish'].value_counts()"
   ]
  },
  {
   "cell_type": "code",
   "execution_count": 144,
   "id": "vocal-guest",
   "metadata": {},
   "outputs": [
    {
     "data": {
      "text/plain": [
       "<AxesSubplot:xlabel='GarageFinish', ylabel='SalePrice'>"
      ]
     },
     "execution_count": 144,
     "metadata": {},
     "output_type": "execute_result"
    },
    {
     "data": {
      "image/png": "[encoded data removed]",
      "text/plain": [
       "<Figure size 432x288 with 1 Axes>"
      ]
     },
     "metadata": {
      "needs_background": "light"
     },
     "output_type": "display_data"
    }
   ],
   "source": [
    "sns.boxplot(data = df, x = 'GarageFinish', y ='SalePrice')"
   ]
  },
  {
   "cell_type": "code",
   "execution_count": 145,
   "id": "passive-jacksonville",
   "metadata": {},
   "outputs": [],
   "source": [
    "cat_to_include.append('GarageFinish')"
   ]
  },
  {
   "cell_type": "markdown",
   "id": "destroyed-galaxy",
   "metadata": {},
   "source": [
    "##### 'GarageFinish' is included\n",
    "# "
   ]
  },
  {
   "cell_type": "markdown",
   "id": "prescribed-gazette",
   "metadata": {},
   "source": [
    "### 34. GarageQual"
   ]
  },
  {
   "cell_type": "code",
   "execution_count": 146,
   "id": "eastern-wichita",
   "metadata": {},
   "outputs": [
    {
     "data": {
      "text/plain": [
       "TA    1311\n",
       "Fa      48\n",
       "Gd      14\n",
       "Ex       3\n",
       "Po       3\n",
       "Name: GarageQual, dtype: int64"
      ]
     },
     "execution_count": 146,
     "metadata": {},
     "output_type": "execute_result"
    }
   ],
   "source": [
    "df['GarageQual'].value_counts()"
   ]
  },
  {
   "cell_type": "code",
   "execution_count": 147,
   "id": "organic-source",
   "metadata": {},
   "outputs": [
    {
     "data": {
      "text/plain": [
       "<AxesSubplot:xlabel='GarageQual', ylabel='SalePrice'>"
      ]
     },
     "execution_count": 147,
     "metadata": {},
     "output_type": "execute_result"
    },
    {
     "data": {
      "image/png": "[encoded data removed]",
      "text/plain": [
       "<Figure size 432x288 with 1 Axes>"
      ]
     },
     "metadata": {
      "needs_background": "light"
     },
     "output_type": "display_data"
    }
   ],
   "source": [
    "sns.boxplot(data =df, x ='GarageQual', y = 'SalePrice')"
   ]
  },
  {
   "cell_type": "code",
   "execution_count": 148,
   "id": "varied-liabilities",
   "metadata": {},
   "outputs": [],
   "source": [
    "cat_to_exclude.append('GarageQual')"
   ]
  },
  {
   "cell_type": "markdown",
   "id": "stunning-habitat",
   "metadata": {},
   "source": [
    "##### 'GarageQual' is excluded as its value is skewed under 'TA'\n",
    "# "
   ]
  },
  {
   "cell_type": "markdown",
   "id": "painful-animal",
   "metadata": {},
   "source": [
    "### 35. GarageCond"
   ]
  },
  {
   "cell_type": "code",
   "execution_count": 149,
   "id": "distributed-spencer",
   "metadata": {},
   "outputs": [
    {
     "data": {
      "text/plain": [
       "TA    1326\n",
       "Fa      35\n",
       "Gd       9\n",
       "Po       7\n",
       "Ex       2\n",
       "Name: GarageCond, dtype: int64"
      ]
     },
     "execution_count": 149,
     "metadata": {},
     "output_type": "execute_result"
    }
   ],
   "source": [
    "df['GarageCond'].value_counts()"
   ]
  },
  {
   "cell_type": "code",
   "execution_count": 150,
   "id": "romantic-struggle",
   "metadata": {},
   "outputs": [],
   "source": [
    "cat_to_exclude.append('GarageCond')"
   ]
  },
  {
   "cell_type": "markdown",
   "id": "adjusted-rental",
   "metadata": {},
   "source": [
    "##### 'GarageCond' is excluded\n",
    "# "
   ]
  },
  {
   "cell_type": "markdown",
   "id": "exposed-palmer",
   "metadata": {},
   "source": [
    "### 36. PavedDrive"
   ]
  },
  {
   "cell_type": "code",
   "execution_count": 151,
   "id": "polar-cover",
   "metadata": {},
   "outputs": [
    {
     "data": {
      "text/plain": [
       "Y    1340\n",
       "N      90\n",
       "P      30\n",
       "Name: PavedDrive, dtype: int64"
      ]
     },
     "execution_count": 151,
     "metadata": {},
     "output_type": "execute_result"
    }
   ],
   "source": [
    "df['PavedDrive'].value_counts()"
   ]
  },
  {
   "cell_type": "code",
   "execution_count": 152,
   "id": "invalid-photograph",
   "metadata": {},
   "outputs": [],
   "source": [
    "cat_to_exclude.append('PavedDrive')"
   ]
  },
  {
   "cell_type": "markdown",
   "id": "critical-binding",
   "metadata": {},
   "source": [
    "### 37. SaleType"
   ]
  },
  {
   "cell_type": "code",
   "execution_count": 153,
   "id": "assured-valuation",
   "metadata": {},
   "outputs": [
    {
     "data": {
      "text/plain": [
       "WD       1267\n",
       "New       122\n",
       "COD        43\n",
       "ConLD       9\n",
       "ConLI       5\n",
       "ConLw       5\n",
       "CWD         4\n",
       "Oth         3\n",
       "Con         2\n",
       "Name: SaleType, dtype: int64"
      ]
     },
     "execution_count": 153,
     "metadata": {},
     "output_type": "execute_result"
    }
   ],
   "source": [
    "df['SaleType'].value_counts()"
   ]
  },
  {
   "cell_type": "code",
   "execution_count": 154,
   "id": "understood-fashion",
   "metadata": {},
   "outputs": [],
   "source": [
    "cat_to_exclude.append('SaleType')"
   ]
  },
  {
   "cell_type": "markdown",
   "id": "pediatric-macro",
   "metadata": {},
   "source": [
    "##### 'SaleType' is excluded\n",
    "# "
   ]
  },
  {
   "cell_type": "markdown",
   "id": "western-airfare",
   "metadata": {},
   "source": [
    "### 38. SaleCondition"
   ]
  },
  {
   "cell_type": "code",
   "execution_count": 156,
   "id": "adjustable-veteran",
   "metadata": {},
   "outputs": [
    {
     "data": {
      "text/plain": [
       "Normal     1198\n",
       "Partial     125\n",
       "Abnorml     101\n",
       "Family       20\n",
       "Alloca       12\n",
       "AdjLand       4\n",
       "Name: SaleCondition, dtype: int64"
      ]
     },
     "execution_count": 156,
     "metadata": {},
     "output_type": "execute_result"
    }
   ],
   "source": [
    "df['SaleCondition'].value_counts()"
   ]
  },
  {
   "cell_type": "code",
   "execution_count": 157,
   "id": "surrounded-humanity",
   "metadata": {},
   "outputs": [
    {
     "data": {
      "text/plain": [
       "<AxesSubplot:xlabel='SaleCondition', ylabel='SalePrice'>"
      ]
     },
     "execution_count": 157,
     "metadata": {},
     "output_type": "execute_result"
    },
    {
     "data": {
      "image/png": "[encoded data removed]",
      "text/plain": [
       "<Figure size 432x288 with 1 Axes>"
      ]
     },
     "metadata": {
      "needs_background": "light"
     },
     "output_type": "display_data"
    }
   ],
   "source": [
    "sns.boxplot(data = df, x = 'SaleCondition', y ='SalePrice')"
   ]
  },
  {
   "cell_type": "code",
   "execution_count": 158,
   "id": "incomplete-myrtle",
   "metadata": {},
   "outputs": [],
   "source": [
    "cat_to_exclude.append('SaleCondition')"
   ]
  },
  {
   "cell_type": "markdown",
   "id": "colored-twenty",
   "metadata": {},
   "source": [
    "##### 'SaleCondition'  is excluded\n",
    "# "
   ]
  },
  {
   "cell_type": "code",
   "execution_count": 159,
   "id": "electoral-single",
   "metadata": {},
   "outputs": [
    {
     "data": {
      "text/plain": [
       "['MSZoning',\n",
       " 'Street',\n",
       " 'LandContour',\n",
       " 'Utilities',\n",
       " 'LandSlope',\n",
       " 'Condition1',\n",
       " 'Condition2',\n",
       " 'BldgType',\n",
       " 'RoofStyle',\n",
       " 'RoofMatl',\n",
       " 'ExterCond',\n",
       " 'Foundation',\n",
       " 'BsmtCond',\n",
       " 'BsmtFinType2',\n",
       " 'Heating',\n",
       " 'CentralAir',\n",
       " 'Electrical',\n",
       " 'Functional',\n",
       " 'GarageQual',\n",
       " 'GarageCond',\n",
       " 'PavedDrive',\n",
       " 'SaleType',\n",
       " 'SaleCondition']"
      ]
     },
     "execution_count": 159,
     "metadata": {},
     "output_type": "execute_result"
    }
   ],
   "source": [
    "cat_to_exclude"
   ]
  },
  {
   "cell_type": "code",
   "execution_count": 160,
   "id": "planned-palestinian",
   "metadata": {},
   "outputs": [
    {
     "data": {
      "text/plain": [
       "23"
      ]
     },
     "execution_count": 160,
     "metadata": {},
     "output_type": "execute_result"
    }
   ],
   "source": [
    "len(cat_to_exclude)"
   ]
  },
  {
   "cell_type": "code",
   "execution_count": 162,
   "id": "thick-editor",
   "metadata": {},
   "outputs": [
    {
     "data": {
      "text/plain": [
       "15"
      ]
     },
     "execution_count": 162,
     "metadata": {},
     "output_type": "execute_result"
    }
   ],
   "source": [
    "len(cat_to_include)"
   ]
  },
  {
   "cell_type": "code",
   "execution_count": 163,
   "id": "neither-grain",
   "metadata": {},
   "outputs": [],
   "source": [
    "df.drop(cat_to_exclude, inplace = True, axis = 1)"
   ]
  },
  {
   "cell_type": "code",
   "execution_count": 164,
   "id": "constitutional-leader",
   "metadata": {},
   "outputs": [
    {
     "data": {
      "text/plain": [
       "(1460, 40)"
      ]
     },
     "execution_count": 164,
     "metadata": {},
     "output_type": "execute_result"
    }
   ],
   "source": [
    "df.shape"
   ]
  },
  {
   "cell_type": "code",
   "execution_count": 165,
   "id": "vertical-princeton",
   "metadata": {},
   "outputs": [
    {
     "name": "stdout",
     "output_type": "stream",
     "text": [
      "<class 'pandas.core.frame.DataFrame'>\n",
      "RangeIndex: 1460 entries, 0 to 1459\n",
      "Data columns (total 40 columns):\n",
      "LotFrontage     1201 non-null float64\n",
      "LotArea         1460 non-null int64\n",
      "LotShape        1460 non-null object\n",
      "LotConfig       1460 non-null object\n",
      "Neighborhood    1460 non-null object\n",
      "HouseStyle      1460 non-null object\n",
      "OverallQual     1460 non-null int64\n",
      "YearBuilt       1460 non-null int64\n",
      "YearRemodAdd    1460 non-null int64\n",
      "Exterior1st     1460 non-null object\n",
      "Exterior2nd     1460 non-null object\n",
      "MasVnrType      1460 non-null object\n",
      "MasVnrArea      1460 non-null float64\n",
      "ExterQual       1460 non-null object\n",
      "BsmtQual        1423 non-null object\n",
      "BsmtExposure    1422 non-null object\n",
      "BsmtFinType1    1423 non-null object\n",
      "BsmtFinSF1      1460 non-null int64\n",
      "BsmtUnfSF       1460 non-null int64\n",
      "TotalBsmtSF     1460 non-null int64\n",
      "HeatingQC       1460 non-null object\n",
      "1stFlrSF        1460 non-null int64\n",
      "2ndFlrSF        1460 non-null int64\n",
      "GrLivArea       1460 non-null int64\n",
      "BsmtFullBath    1460 non-null int64\n",
      "FullBath        1460 non-null int64\n",
      "HalfBath        1460 non-null int64\n",
      "BedroomAbvGr    1460 non-null int64\n",
      "KitchenQual     1460 non-null object\n",
      "TotRmsAbvGrd    1460 non-null int64\n",
      "Fireplaces      1460 non-null int64\n",
      "GarageType      1379 non-null object\n",
      "GarageYrBlt     1379 non-null float64\n",
      "GarageFinish    1379 non-null object\n",
      "GarageCars      1460 non-null int64\n",
      "GarageArea      1460 non-null int64\n",
      "WoodDeckSF      1460 non-null int64\n",
      "OpenPorchSF     1460 non-null int64\n",
      "ScreenPorch     1460 non-null int64\n",
      "SalePrice       1460 non-null int64\n",
      "dtypes: float64(3), int64(22), object(15)\n",
      "memory usage: 456.4+ KB\n"
     ]
    }
   ],
   "source": [
    "df.info()"
   ]
  },
  {
   "cell_type": "code",
   "execution_count": 166,
   "id": "fixed-daily",
   "metadata": {},
   "outputs": [
    {
     "data": {
      "text/html": [
       "<div>\n",
       "<style scoped>\n",
       "    .dataframe tbody tr th:only-of-type {\n",
       "        vertical-align: middle;\n",
       "    }\n",
       "\n",
       "    .dataframe tbody tr th {\n",
       "        vertical-align: top;\n",
       "    }\n",
       "\n",
       "    .dataframe thead th {\n",
       "        text-align: right;\n",
       "    }\n",
       "</style>\n",
       "<table border=\"1\" class=\"dataframe\">\n",
       "  <thead>\n",
       "    <tr style=\"text-align: right;\">\n",
       "      <th></th>\n",
       "      <th>LotFrontage</th>\n",
       "      <th>LotArea</th>\n",
       "      <th>LotShape</th>\n",
       "      <th>LotConfig</th>\n",
       "      <th>Neighborhood</th>\n",
       "      <th>HouseStyle</th>\n",
       "      <th>OverallQual</th>\n",
       "      <th>YearBuilt</th>\n",
       "      <th>YearRemodAdd</th>\n",
       "      <th>Exterior1st</th>\n",
       "      <th>...</th>\n",
       "      <th>Fireplaces</th>\n",
       "      <th>GarageType</th>\n",
       "      <th>GarageYrBlt</th>\n",
       "      <th>GarageFinish</th>\n",
       "      <th>GarageCars</th>\n",
       "      <th>GarageArea</th>\n",
       "      <th>WoodDeckSF</th>\n",
       "      <th>OpenPorchSF</th>\n",
       "      <th>ScreenPorch</th>\n",
       "      <th>SalePrice</th>\n",
       "    </tr>\n",
       "  </thead>\n",
       "  <tbody>\n",
       "    <tr>\n",
       "      <td>0</td>\n",
       "      <td>65.0</td>\n",
       "      <td>8450</td>\n",
       "      <td>Reg</td>\n",
       "      <td>Inside</td>\n",
       "      <td>CollgCr</td>\n",
       "      <td>2Story</td>\n",
       "      <td>7</td>\n",
       "      <td>2003</td>\n",
       "      <td>2003</td>\n",
       "      <td>VinylSd</td>\n",
       "      <td>...</td>\n",
       "      <td>0</td>\n",
       "      <td>Attchd</td>\n",
       "      <td>2003.0</td>\n",
       "      <td>RFn</td>\n",
       "      <td>2</td>\n",
       "      <td>548</td>\n",
       "      <td>0</td>\n",
       "      <td>61</td>\n",
       "      <td>0</td>\n",
       "      <td>208500</td>\n",
       "    </tr>\n",
       "    <tr>\n",
       "      <td>1</td>\n",
       "      <td>80.0</td>\n",
       "      <td>9600</td>\n",
       "      <td>Reg</td>\n",
       "      <td>FR2</td>\n",
       "      <td>Veenker</td>\n",
       "      <td>1Story</td>\n",
       "      <td>6</td>\n",
       "      <td>1976</td>\n",
       "      <td>1976</td>\n",
       "      <td>MetalSd</td>\n",
       "      <td>...</td>\n",
       "      <td>1</td>\n",
       "      <td>Attchd</td>\n",
       "      <td>1976.0</td>\n",
       "      <td>RFn</td>\n",
       "      <td>2</td>\n",
       "      <td>460</td>\n",
       "      <td>298</td>\n",
       "      <td>0</td>\n",
       "      <td>0</td>\n",
       "      <td>181500</td>\n",
       "    </tr>\n",
       "    <tr>\n",
       "      <td>2</td>\n",
       "      <td>68.0</td>\n",
       "      <td>11250</td>\n",
       "      <td>IR1</td>\n",
       "      <td>Inside</td>\n",
       "      <td>CollgCr</td>\n",
       "      <td>2Story</td>\n",
       "      <td>7</td>\n",
       "      <td>2001</td>\n",
       "      <td>2002</td>\n",
       "      <td>VinylSd</td>\n",
       "      <td>...</td>\n",
       "      <td>1</td>\n",
       "      <td>Attchd</td>\n",
       "      <td>2001.0</td>\n",
       "      <td>RFn</td>\n",
       "      <td>2</td>\n",
       "      <td>608</td>\n",
       "      <td>0</td>\n",
       "      <td>42</td>\n",
       "      <td>0</td>\n",
       "      <td>223500</td>\n",
       "    </tr>\n",
       "    <tr>\n",
       "      <td>3</td>\n",
       "      <td>60.0</td>\n",
       "      <td>9550</td>\n",
       "      <td>IR1</td>\n",
       "      <td>Corner</td>\n",
       "      <td>Crawfor</td>\n",
       "      <td>2Story</td>\n",
       "      <td>7</td>\n",
       "      <td>1915</td>\n",
       "      <td>1970</td>\n",
       "      <td>Wd Sdng</td>\n",
       "      <td>...</td>\n",
       "      <td>1</td>\n",
       "      <td>Detchd</td>\n",
       "      <td>1998.0</td>\n",
       "      <td>Unf</td>\n",
       "      <td>3</td>\n",
       "      <td>642</td>\n",
       "      <td>0</td>\n",
       "      <td>35</td>\n",
       "      <td>0</td>\n",
       "      <td>140000</td>\n",
       "    </tr>\n",
       "    <tr>\n",
       "      <td>4</td>\n",
       "      <td>84.0</td>\n",
       "      <td>14260</td>\n",
       "      <td>IR1</td>\n",
       "      <td>FR2</td>\n",
       "      <td>NoRidge</td>\n",
       "      <td>2Story</td>\n",
       "      <td>8</td>\n",
       "      <td>2000</td>\n",
       "      <td>2000</td>\n",
       "      <td>VinylSd</td>\n",
       "      <td>...</td>\n",
       "      <td>1</td>\n",
       "      <td>Attchd</td>\n",
       "      <td>2000.0</td>\n",
       "      <td>RFn</td>\n",
       "      <td>3</td>\n",
       "      <td>836</td>\n",
       "      <td>192</td>\n",
       "      <td>84</td>\n",
       "      <td>0</td>\n",
       "      <td>250000</td>\n",
       "    </tr>\n",
       "  </tbody>\n",
       "</table>\n",
       "<p>5 rows × 40 columns</p>\n",
       "</div>"
      ],
      "text/plain": [
       "   LotFrontage  LotArea LotShape LotConfig Neighborhood HouseStyle  \\\n",
       "0         65.0     8450      Reg    Inside      CollgCr     2Story   \n",
       "1         80.0     9600      Reg       FR2      Veenker     1Story   \n",
       "2         68.0    11250      IR1    Inside      CollgCr     2Story   \n",
       "3         60.0     9550      IR1    Corner      Crawfor     2Story   \n",
       "4         84.0    14260      IR1       FR2      NoRidge     2Story   \n",
       "\n",
       "   OverallQual  YearBuilt  YearRemodAdd Exterior1st  ... Fireplaces  \\\n",
       "0            7       2003          2003     VinylSd  ...          0   \n",
       "1            6       1976          1976     MetalSd  ...          1   \n",
       "2            7       2001          2002     VinylSd  ...          1   \n",
       "3            7       1915          1970     Wd Sdng  ...          1   \n",
       "4            8       2000          2000     VinylSd  ...          1   \n",
       "\n",
       "  GarageType  GarageYrBlt GarageFinish GarageCars GarageArea WoodDeckSF  \\\n",
       "0     Attchd       2003.0          RFn          2        548          0   \n",
       "1     Attchd       1976.0          RFn          2        460        298   \n",
       "2     Attchd       2001.0          RFn          2        608          0   \n",
       "3     Detchd       1998.0          Unf          3        642          0   \n",
       "4     Attchd       2000.0          RFn          3        836        192   \n",
       "\n",
       "   OpenPorchSF  ScreenPorch  SalePrice  \n",
       "0           61            0     208500  \n",
       "1            0            0     181500  \n",
       "2           42            0     223500  \n",
       "3           35            0     140000  \n",
       "4           84            0     250000  \n",
       "\n",
       "[5 rows x 40 columns]"
      ]
     },
     "execution_count": 166,
     "metadata": {},
     "output_type": "execute_result"
    }
   ],
   "source": [
    "df.head()"
   ]
  },
  {
   "cell_type": "code",
   "execution_count": 168,
   "id": "earned-indonesia",
   "metadata": {},
   "outputs": [],
   "source": [
    "df.to_csv('clean_v2.csv', index = False)"
   ]
  },
  {
   "cell_type": "code",
   "execution_count": null,
   "id": "polar-cattle",
   "metadata": {},
   "outputs": [],
   "source": []
  }
 ],
 "metadata": {
  "kernelspec": {
   "display_name": "Python 3",
   "language": "python",
   "name": "python3"
  },
  "language_info": {
   "codemirror_mode": {
    "name": "ipython",
    "version": 3
   },
   "file_extension": ".py",
   "mimetype": "text/x-python",
   "name": "python",
   "nbconvert_exporter": "python",
   "pygments_lexer": "ipython3",
   "version": "3.7.6"
  }
 },
 "nbformat": 4,
 "nbformat_minor": 5
}
